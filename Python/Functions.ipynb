{
  "nbformat": 4,
  "nbformat_minor": 0,
  "metadata": {
    "colab": {
      "provenance": []
    },
    "kernelspec": {
      "name": "python3",
      "display_name": "Python 3"
    },
    "language_info": {
      "name": "python"
    }
  },
  "cells": [
    {
      "cell_type": "code",
      "execution_count": null,
      "metadata": {
        "colab": {
          "base_uri": "https://localhost:8080/"
        },
        "id": "he0PiprpHv2p",
        "outputId": "a8c4f521-3422-4870-e22c-965c0e64a1f0"
      },
      "outputs": [
        {
          "output_type": "stream",
          "name": "stdout",
          "text": [
            "Enter the 1st number: 4\n",
            "Enter the 2nd number: 3\n",
            "\n",
            "Enter the operation option:\n",
            "1. Addition\n",
            "2. Subrtraction\n",
            "3. Multiplication\n",
            "4. Division\n",
            "3\n",
            "\n",
            "The multiplication of two numbers is 12\n"
          ]
        }
      ],
      "source": [
        "#program of calculator using functions\n",
        "\n",
        "def add(x,y):\n",
        "  return x+y\n",
        "def sub(x,y):\n",
        "  return x-y\n",
        "def mul(x,y):\n",
        "  return x*y\n",
        "def div(x,y):\n",
        "  return x/y\n",
        "\n",
        "a=int(input(\"Enter the 1st number: \"))\n",
        "b=int(input(\"Enter the 2nd number: \"))\n",
        "print()\n",
        "operation=int(input(\"Enter the operation option:\\n1. Addition\\n2. Subrtraction\\n3. Multiplication\\n4. Division\\n\"))\n",
        "print()\n",
        "if operation==1:\n",
        "  print(\"The addition of two numbers is\",add(a,b))\n",
        "elif operation==2:\n",
        "  print(\"The subtration of two numbers is\",sub(a,b))\n",
        "elif operation==3:\n",
        "  print(\"The multiplication of two numbers is\",mul(a,b))\n",
        "elif operation==4:\n",
        "  print(\"The division of two numbers is\",div(a,b))\n",
        "else:\n",
        "  print(\"Invalid operation\")"
      ]
    },
    {
      "cell_type": "code",
      "source": [
        "#Program for quiz using fucntions\n",
        "def quiz():\n",
        "  score=0\n",
        "  print(\"What is the national bird of India?\")\n",
        "  answer=input(\"A. Piegon\\nB. Peacock\\nC. Eagle\\nD. Sparrow\\n\")\n",
        "  print()\n",
        "  if answer==\"B\":\n",
        "    print(\"Your answer is correct!\\n\")\n",
        "    score=score+1\n",
        "  elif answer==\"A\" or answer==\"C\" or answer==\"D\":\n",
        "    print(\"Your answer is incorrect!\\n\")\n",
        "  else:\n",
        "    print(\"Invalid Option. Please choose from the given options.\\n\")\n",
        "\n",
        "  print(\"What is the capital of India?\")\n",
        "  answer=input(\"A. Mumbai\\nB. Pune\\nC. Kolkata\\nD. Delhi\\n\")\n",
        "  if answer==\"D\":\n",
        "    print(\"Your answer is correct!\\n\")\n",
        "    score=score+1\n",
        "  elif answer==\"A\" or answer==\"B\" or answer==\"C\":\n",
        "    print(\"Your answer is incorrect!\\n\")\n",
        "  else:\n",
        "    print(\"Invalid Option. Please choose from the given options.\\n\")\n",
        "\n",
        "  print(\"What is the national sport of India?\")\n",
        "  answer=input(\"A. Hockey\\nB. Batminton\\nC. Cricket\\nD. Tennis\\n\")\n",
        "  if answer==\"A\":\n",
        "    print(\"Your answer is correct!\\n\")\n",
        "    score=score+1\n",
        "  elif answer==\"B\" or answer==\"C\" or answer==\"D\":\n",
        "    print(\"Your answer is incorrect!\\n\")\n",
        "  else:\n",
        "    print(\"Invalid Option. Please choose from the given options.\\n\")\n",
        "\n",
        "  print()\n",
        "  print(\"Your total score is {}/3.\".format(score))\n",
        "\n",
        "\n",
        "\n",
        "quiz()"
      ],
      "metadata": {
        "colab": {
          "base_uri": "https://localhost:8080/"
        },
        "id": "Je4CgaQzMVax",
        "outputId": "1d65fe83-8a53-43d1-f9b9-ea1be3a79d1e"
      },
      "execution_count": null,
      "outputs": [
        {
          "output_type": "stream",
          "name": "stdout",
          "text": [
            "What is the national bird of India?\n",
            "A. Piegon\n",
            "B. Peacock\n",
            "C. Eagle\n",
            "D. Sparrow\n",
            "D\n",
            "\n",
            "Your answer is incorrect!\n",
            "\n",
            "What is the capital of India?\n",
            "A. Mumbai\n",
            "B. Pune\n",
            "C. Kolkata\n",
            "D. Delhi\n",
            "D\n",
            "Your answer is correct!\n",
            "\n",
            "What is the national sport of India?\n",
            "A. Hockey\n",
            "B. Batminton\n",
            "C. Cricket\n",
            "D. Tennis\n",
            "A\n",
            "Your answer is correct!\n",
            "\n",
            "\n",
            "Your total score is 2/3.\n"
          ]
        }
      ]
    },
    {
      "cell_type": "code",
      "source": [
        "#Program for reporting Available stock\n",
        "total_stock=5000\n",
        "\n",
        "def branch1(sold_stock):\n",
        "  available=((total_stock-sold_stock)/total_stock)*100\n",
        "  print(\"The available stock in branch 1 is {}%\".format(available))\n",
        "\n",
        "def branch2(sold_stock):\n",
        "  available=((total_stock-sold_stock)/total_stock)*100\n",
        "  print(\"The available stock in branch 2 is {}%\".format(available))\n",
        "\n",
        "def branch3(sold_stock):\n",
        "  available=((total_stock-sold_stock)/total_stock)*100\n",
        "  print(\"The available stock in branch 3 is {}%\".format(available))\n",
        "\n",
        "def branch4(sold_stock):\n",
        "  available=((total_stock-sold_stock)/total_stock)*100\n",
        "  print(\"The available stock in branch 4 is {}%\".format(available))\n",
        "\n",
        "branch1(1033)\n",
        "branch2(2567)\n",
        "branch3(3876)\n",
        "branch4(4321)"
      ],
      "metadata": {
        "colab": {
          "base_uri": "https://localhost:8080/"
        },
        "id": "hH24H0mBL6D1",
        "outputId": "e4065468-44bb-489c-c029-d14d6904b298"
      },
      "execution_count": null,
      "outputs": [
        {
          "output_type": "stream",
          "name": "stdout",
          "text": [
            "The available stock in branch 1 is 79.34%\n",
            "The available stock in branch 2 is 48.66%\n",
            "The available stock in branch 3 is 22.48%\n",
            "The available stock in branch 4 is 13.58%\n"
          ]
        }
      ]
    },
    {
      "cell_type": "code",
      "source": [
        "#Program for colors\n",
        "colors=input(\"Enter the colors names seprated by comma: \").lower()\n",
        "list=colors.split(\",\")\n",
        "print()\n",
        "for i in list:\n",
        "  if i==\"red\":\n",
        "    pass\n",
        "  else:\n",
        "    print(\"{}.\".format(i.capitalize()))"
      ],
      "metadata": {
        "colab": {
          "base_uri": "https://localhost:8080/"
        },
        "id": "3z3sDQCNNkdt",
        "outputId": "b40fa7cb-8803-42e1-e25c-44f721184475"
      },
      "execution_count": null,
      "outputs": [
        {
          "output_type": "stream",
          "name": "stdout",
          "text": [
            "Enter the colors names seprated by comma: white,purple,RED,bLue\n",
            "\n",
            "White.\n",
            "Purple.\n",
            "Blue.\n"
          ]
        }
      ]
    },
    {
      "cell_type": "code",
      "source": [
        "#program for marks manipulation\n",
        "marks=(26,78,34,69,90,34,68,87,78,64,24,56,43)\n",
        "#since marks are stored in tuple and it is immutable it cannot be modified.\n",
        "print(\"The maximum marks obtained is\",max(marks))\n",
        "print(\"The minimum marks obtained is\",min(marks))\n",
        "print(\"The top 3 marks obtained are\",sorted(marks,reverse=True)[:3])\n",
        "print(\"The bottom 3 marks obtained are\",sorted(marks)[:3])"
      ],
      "metadata": {
        "colab": {
          "base_uri": "https://localhost:8080/"
        },
        "id": "0qWUfLPcUK_A",
        "outputId": "3d01ed50-2207-450f-8962-5455bc4117a1"
      },
      "execution_count": null,
      "outputs": [
        {
          "output_type": "stream",
          "name": "stdout",
          "text": [
            "The maximum marks obtained is 90\n",
            "The minimum marks obtained is 24\n",
            "The top 3 marks obtained are [90, 87, 78]\n",
            "The bottom 3 marks obtained are [24, 26, 34]\n"
          ]
        }
      ]
    }
  ]
}