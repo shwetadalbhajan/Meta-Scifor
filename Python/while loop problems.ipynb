{
  "nbformat": 4,
  "nbformat_minor": 0,
  "metadata": {
    "colab": {
      "provenance": []
    },
    "kernelspec": {
      "name": "python3",
      "display_name": "Python 3"
    },
    "language_info": {
      "name": "python"
    }
  },
  "cells": [
    {
      "cell_type": "code",
      "execution_count": null,
      "metadata": {
        "colab": {
          "base_uri": "https://localhost:8080/"
        },
        "id": "hG-PQLqqJtCY",
        "outputId": "3a29cd54-6d15-42cb-c92e-37287f7c6f94"
      },
      "outputs": [
        {
          "output_type": "stream",
          "name": "stdout",
          "text": [
            "Enter a number: 4\n",
            "4 X 1 = 4\n",
            "4 X 2 = 8\n",
            "4 X 3 = 12\n",
            "4 X 4 = 16\n",
            "4 X 5 = 20\n",
            "4 X 6 = 24\n",
            "4 X 7 = 28\n",
            "4 X 8 = 32\n",
            "4 X 9 = 36\n",
            "4 X 10 = 40\n"
          ]
        }
      ],
      "source": [
        "#program for multiplication table using while\n",
        "num=int(input(\"Enter a number: \"))\n",
        "i=1\n",
        "while i<=10:\n",
        "    print(num,\"X\",i,\"=\",num*i)\n",
        "    i=i+1"
      ]
    },
    {
      "cell_type": "code",
      "source": [
        "#program for prime number using number\n",
        "num=int(input(\"Enter a number: \"))\n",
        "\n",
        "i=2\n",
        "prime=True\n",
        "\n",
        "if num<=1:\n",
        "  prime=False\n",
        "\n",
        "while i<num:\n",
        "  if num%i==0:\n",
        "    prime=False\n",
        "    break\n",
        "  i=i+1\n",
        "\n",
        "if prime:\n",
        "  print(\"The number is a prime number\")\n",
        "else:\n",
        "  print(\"The number is not a prime number\")"
      ],
      "metadata": {
        "colab": {
          "base_uri": "https://localhost:8080/"
        },
        "id": "pJlS9irbKX0w",
        "outputId": "385d3518-b5dc-4ac5-957a-738fbe45f68d"
      },
      "execution_count": null,
      "outputs": [
        {
          "output_type": "stream",
          "name": "stdout",
          "text": [
            "Enter a number: 1\n",
            "The number is not a prime number\n"
          ]
        }
      ]
    },
    {
      "cell_type": "code",
      "source": [
        "#Program for quiz using while loop\n",
        "print(\"What is the capital of India?\")\n",
        "print(\"a. Mumbai\")\n",
        "print(\"b. Delhi\")\n",
        "print(\"c. Kolkata\")\n",
        "\n",
        "answer=\"b\"\n",
        "ans=input(\"Enter your answer: \")\n",
        "while ans!=answer:\n",
        "  print(\"Your answer is incorrect! Please try again\")\n",
        "  ans=input(\"Enter your answer: \")\n",
        "print(\"Your answer is correct!\")"
      ],
      "metadata": {
        "colab": {
          "base_uri": "https://localhost:8080/"
        },
        "id": "L01XXEIXNWcs",
        "outputId": "e87f0a5a-0d12-4724-d0c1-b147c75ed401"
      },
      "execution_count": null,
      "outputs": [
        {
          "output_type": "stream",
          "name": "stdout",
          "text": [
            "What is the capital of India?\n",
            "a. Mumbai\n",
            "b. Delhi\n",
            "c. Kolkata\n",
            "Enter your answer: a\n",
            "Your answer is incorrect! Please try again\n",
            "Enter your answer: c\n",
            "Your answer is incorrect! Please try again\n",
            "Enter your answer: b\n",
            "Your answer is correct!\n"
          ]
        }
      ]
    }
  ]
}