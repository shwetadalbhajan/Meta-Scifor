{
  "cells": [
    {
      "cell_type": "code",
      "execution_count": null,
      "metadata": {
        "colab": {
          "base_uri": "https://localhost:8080/",
          "height": 263
        },
        "id": "DYpXRzrfbYbw",
        "outputId": "5d6be302-c1b1-48ff-d51e-86e4e30251ae"
      },
      "outputs": [
        {
          "name": "stdout",
          "output_type": "stream",
          "text": [
            "Highest marks: 98\n",
            "Lowest marks: 23\n",
            "Top 3 marks: [98, 90, 87]\n",
            "Bottom 3 marks: [23, 34, 34]\n"
          ]
        },
        {
          "ename": "AttributeError",
          "evalue": "'tuple' object has no attribute 'remove'",
          "output_type": "error",
          "traceback": [
            "\u001b[0;31m---------------------------------------------------------------------------\u001b[0m",
            "\u001b[0;31mAttributeError\u001b[0m                            Traceback (most recent call last)",
            "\u001b[0;32m<ipython-input-19-7db62ea2ffab>\u001b[0m in \u001b[0;36m<cell line: 7>\u001b[0;34m()\u001b[0m\n\u001b[1;32m      5\u001b[0m \u001b[0mprint\u001b[0m\u001b[0;34m(\u001b[0m\u001b[0;34m\"Top 3 marks:\"\u001b[0m\u001b[0;34m,\u001b[0m\u001b[0msorted\u001b[0m\u001b[0;34m(\u001b[0m\u001b[0mmarks\u001b[0m\u001b[0;34m,\u001b[0m\u001b[0mreverse\u001b[0m\u001b[0;34m=\u001b[0m\u001b[0;32mTrue\u001b[0m\u001b[0;34m)\u001b[0m\u001b[0;34m[\u001b[0m\u001b[0;34m:\u001b[0m\u001b[0;36m3\u001b[0m\u001b[0;34m]\u001b[0m\u001b[0;34m)\u001b[0m\u001b[0;34m\u001b[0m\u001b[0;34m\u001b[0m\u001b[0m\n\u001b[1;32m      6\u001b[0m \u001b[0mprint\u001b[0m\u001b[0;34m(\u001b[0m\u001b[0;34m\"Bottom 3 marks:\"\u001b[0m\u001b[0;34m,\u001b[0m\u001b[0msorted\u001b[0m\u001b[0;34m(\u001b[0m\u001b[0mmarks\u001b[0m\u001b[0;34m)\u001b[0m\u001b[0;34m[\u001b[0m\u001b[0;34m:\u001b[0m\u001b[0;36m3\u001b[0m\u001b[0;34m]\u001b[0m\u001b[0;34m)\u001b[0m\u001b[0;34m\u001b[0m\u001b[0;34m\u001b[0m\u001b[0m\n\u001b[0;32m----> 7\u001b[0;31m \u001b[0mmarks\u001b[0m\u001b[0;34m.\u001b[0m\u001b[0mremove\u001b[0m\u001b[0;34m(\u001b[0m\u001b[0;36m34\u001b[0m\u001b[0;34m)\u001b[0m\u001b[0;34m\u001b[0m\u001b[0;34m\u001b[0m\u001b[0m\n\u001b[0m\u001b[1;32m      8\u001b[0m \u001b[0mprint\u001b[0m\u001b[0;34m(\u001b[0m\u001b[0mmarks\u001b[0m\u001b[0;34m)\u001b[0m\u001b[0;34m\u001b[0m\u001b[0;34m\u001b[0m\u001b[0m\n",
            "\u001b[0;31mAttributeError\u001b[0m: 'tuple' object has no attribute 'remove'"
          ]
        }
      ],
      "source": [
        "#Program for manipulation of marks using tuple\n",
        "marks=(23,56,34,46,35,65,35,57,98,67,78,34,65,90,87,74,69,34) #Can be done till 180 records.\n",
        "print(\"Highest marks:\",max(marks))\n",
        "print(\"Lowest marks:\",min(marks))\n",
        "print(\"Top 3 marks:\",sorted(marks,reverse=True)[:3])\n",
        "print(\"Bottom 3 marks:\",sorted(marks)[:3])\n",
        "marks.remove(34) #Tuple are immulatable hence they done have any function such as append, remove, etc.\n",
        "print(marks)"
      ]
    },
    {
      "cell_type": "code",
      "execution_count": null,
      "metadata": {
        "colab": {
          "base_uri": "https://localhost:8080/"
        },
        "id": "_RwOus8Ie9i-",
        "outputId": "28c20185-8078-42e5-9a58-dad90801ad66"
      },
      "outputs": [
        {
          "name": "stdout",
          "output_type": "stream",
          "text": [
            "Enter the ID: 10\n",
            "Message sent to 10. The name of the student is Arjun.\n",
            "\n",
            "{10: 'Arjun', 11: 'Rajesh', 12: 'Rajesh', 13: 'Satish', 14: 'Ritika', 15: 'Kriti', 16: 'Devyani', 17: 'Steve'}\n",
            "\n",
            "Enter the ID: 10\n",
            "Enter the name: John\n",
            "Enter the age: 23\n",
            "Enter the email: john@gmail.com\n",
            "{10: {'Name': 'John', 'Age': 23, 'Email': 'john@gmail.com'}, 11: 'Rajesh', 12: 'Rajesh', 13: 'Satish', 14: 'Ritika', 15: 'Kriti', 16: 'Devyani', 17: 'Steve'}\n"
          ]
        }
      ],
      "source": [
        "#Program for manipulation of student data using dictionary\n",
        "student={10:\"Arjun\",11:\"Rajesh\",12:\"Rajesh\",13:\"Satish\",14:\"Ritika\",15:\"Kriti\"}\n",
        "id=int(input(\"Enter the ID: \"))\n",
        "if id in student:\n",
        "  print(\"Message sent to {}. The name of the student is {}.\".format(id,student[id]))\n",
        "else:\n",
        "    print(\"Student not found\")\n",
        "print()\n",
        "student2={16:\"Devyani\",17:\"Steve\"}\n",
        "student.update(student2)\n",
        "print(student)\n",
        "print()\n",
        "id=int(input(\"Enter the ID: \"))\n",
        "name=input(\"Enter the name: \")\n",
        "age=int(input(\"Enter the age: \"))\n",
        "email=input(\"Enter the email: \")\n",
        "a={\"Name\":name,\"Age\":age,\"Email\":email}\n",
        "student[id]=a\n",
        "print(student)"
      ]
    },
    {
      "cell_type": "code",
      "execution_count": null,
      "metadata": {
        "colab": {
          "background_save": true,
          "base_uri": "https://localhost:8080/"
        },
        "id": "cqvB1ArLjQkI",
        "outputId": "0111ab81-f335-45b5-a751-e839911b49a1"
      },
      "outputs": [
        {
          "name": "stdout",
          "output_type": "stream",
          "text": [
            "Added to the grocery list.\n",
            "{'milk': {'quantity': 1, 'price': 50}}\n",
            "The remainging amount is 50\n",
            "Added to the grocery list.\n",
            "{'milk': {'quantity': 1, 'price': 50}, 'wheat': {'quantity': 1, 'price': 40}}\n",
            "The remainging amount is 10\n",
            "Sorry, you cannot add this item as it exceeds the budget.\n"
          ]
        }
      ],
      "source": [
        "#Program for grocery management\n",
        "budget=int(input(\"Enter the budget: \"))\n",
        "choice=int(input(\"Enter the choice: \\n1. Add and item. \\n2. Exit. \"))\n",
        "gry={}\n",
        "total_spent=0\n",
        "\n",
        "if choice==1:\n",
        "  while total_spent < budget:\n",
        "    item=input(\"Enter the item: \")\n",
        "    price=int(input(\"Enter the price: \"))\n",
        "    quantity=int(input(\"Enter the quantity: \"))\n",
        "    total_price = quantity * price\n",
        "    if total_spent + total_price > budget:\n",
        "      print(\"Sorry, you cannot add this item as it exceeds the budget.\")\n",
        "    else:\n",
        "      gry[item] = {'quantity': quantity, 'price': price}\n",
        "      total_spent += total_price\n",
        "      print(\"Added to the grocery list.\")\n",
        "      print(gry)\n",
        "      print(\"The remainging amount is\",budget-total_spent)\n",
        "\n",
        "else:\n",
        "  print(\"Thank you.\")\n",
        "  print(\"The remaining amount is\",budget-total_spent)\n",
        "  print(gry)\n"
      ]
    },
    {
      "cell_type": "code",
      "execution_count": null,
      "metadata": {
        "colab": {
          "base_uri": "https://localhost:8080/"
        },
        "id": "LxH1scDEqMH0",
        "outputId": "020bd7dc-4983-47f6-af2d-928a33474652"
      },
      "outputs": [
        {
          "name": "stdout",
          "output_type": "stream",
          "text": [
            "Enter a planet name for your team: Neptune\n",
            "['Earth', 'mars', 'Saturn', 'Neptune']\n",
            "\n",
            "Enter a planet name for your team: Venus\n",
            "['Earth', 'mars', 'Saturn', 'Neptune', 'Venus']\n",
            "\n",
            "Enter a planet name for your team: Sun\n",
            "['Earth', 'mars', 'Saturn', 'Neptune', 'Venus', 'Sun']\n",
            "\n",
            "Enter a planet name for your team: Moon\n",
            "['Earth', 'mars', 'Saturn', 'Neptune', 'Venus', 'Sun', 'Moon']\n",
            "\n",
            "Enter a planet name for your team: Uranus\n",
            "['Earth', 'mars', 'Saturn', 'Neptune', 'Venus', 'Sun', 'Moon', 'Uranus']\n",
            "\n",
            "Enter a planet name for your team: Jupiter\n",
            "['Earth', 'mars', 'Saturn', 'Neptune', 'Venus', 'Sun', 'Moon', 'Uranus', 'Jupiter']\n",
            "\n",
            "Registration is now full!\n",
            "Final registered teams:  ['Earth', 'mars', 'Saturn', 'Neptune', 'Venus', 'Sun', 'Moon', 'Uranus', 'Jupiter']\n"
          ]
        }
      ],
      "source": [
        "#program for registration of teams.\n",
        "\n",
        "teams=[\"Earth\",\"mars\",\"Saturn\"]\n",
        "while len(teams) < 9:\n",
        "    name = input(\"Enter a planet name for your team: \")\n",
        "    if name in teams:\n",
        "        print(\"This planet is already taken! Please choose a different planet.\")\n",
        "        print()\n",
        "    else:\n",
        "        teams.append(name)\n",
        "        print(teams)\n",
        "        print()\n",
        "\n",
        "print(\"Registration is now full!\")\n",
        "print(\"Final registered teams: \", teams)\n"
      ]
    }
  ],
  "metadata": {
    "colab": {
      "provenance": []
    },
    "kernelspec": {
      "display_name": "Python 3",
      "name": "python3"
    },
    "language_info": {
      "name": "python"
    }
  },
  "nbformat": 4,
  "nbformat_minor": 0
}