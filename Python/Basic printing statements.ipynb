{
  "nbformat": 4,
  "nbformat_minor": 0,
  "metadata": {
    "colab": {
      "provenance": []
    },
    "kernelspec": {
      "name": "python3",
      "display_name": "Python 3"
    },
    "language_info": {
      "name": "python"
    }
  },
  "cells": [
    {
      "cell_type": "code",
      "execution_count": null,
      "metadata": {
        "colab": {
          "base_uri": "https://localhost:8080/"
        },
        "id": "o1nMFTLbO9fx",
        "outputId": "d398d3da-4557-420f-f774-e62b4a8564fa"
      },
      "outputs": [
        {
          "output_type": "stream",
          "name": "stdout",
          "text": [
            "Shweta\n",
            "22\n"
          ]
        }
      ],
      "source": [
        "#Printing name and age using print statement\n",
        "print(\"Shweta\")\n",
        "print(22)"
      ]
    },
    {
      "cell_type": "code",
      "source": [
        "#Printing different shapes\n",
        "#Square using \"|\" and \"_\"\n",
        "print(\" ______\")\n",
        "print(\"|      |\")\n",
        "print(\"|      |\")\n",
        "print(\"|______|\")"
      ],
      "metadata": {
        "colab": {
          "base_uri": "https://localhost:8080/"
        },
        "id": "YgNzhdIlPaIz",
        "outputId": "e92a0b99-904d-494f-a8ca-bc0957cb1d86"
      },
      "execution_count": null,
      "outputs": [
        {
          "output_type": "stream",
          "name": "stdout",
          "text": [
            " ______\n",
            "|      |\n",
            "|      |\n",
            "|______|\n"
          ]
        }
      ]
    },
    {
      "cell_type": "code",
      "source": [
        "#printing a traing using \"/\",\"\\\" and \"_\"\n",
        "print(\"   /\\    \")\n",
        "print(\"  /  \\   \")\n",
        "print(\" /____\\  \")"
      ],
      "metadata": {
        "colab": {
          "base_uri": "https://localhost:8080/"
        },
        "id": "GkC8GLTsQojd",
        "outputId": "9635403f-6af8-45c3-cc92-45c421b9f3d8"
      },
      "execution_count": null,
      "outputs": [
        {
          "output_type": "stream",
          "name": "stdout",
          "text": [
            "   /\\    \n",
            "  /  \\   \n",
            " /____\\  \n"
          ]
        }
      ]
    },
    {
      "cell_type": "code",
      "source": [
        "#printing names in different line using one print statement\n",
        "print(\"Shweta \\nUtkarsh \\nKhushi \\nNanda \\nRajiv\")"
      ],
      "metadata": {
        "colab": {
          "base_uri": "https://localhost:8080/"
        },
        "id": "uoVOoKArSpNK",
        "outputId": "12c8ec36-a4c1-4ef4-9e53-a1fb00934a9b"
      },
      "execution_count": null,
      "outputs": [
        {
          "output_type": "stream",
          "name": "stdout",
          "text": [
            "Shweta \n",
            "Utkarsh \n",
            "Khushi \n",
            "Nanda \n",
            "Rajiv\n"
          ]
        }
      ]
    },
    {
      "cell_type": "code",
      "source": [
        "#Program for generating an essay\n",
        "name=input(\"Enter your name: \")\n",
        "age=int(input(\"Enter our age: \"))\n",
        "grade=int(input(\"Enter the grade in which you study: \"))\n",
        "address=input(\"Enter your address: \")\n",
        "hobby=input(\"Enter your hobby: \")\n",
        "print(\"\\n\\nMy name is {} and I am {} years old. \\nI study in {}th grade and I live in {}. \\nMy hobby is {}.\".format(name,age,grade,address,hobby))"
      ],
      "metadata": {
        "colab": {
          "base_uri": "https://localhost:8080/"
        },
        "id": "9HhVR6WFVP7o",
        "outputId": "ca3f491a-14e8-4aa9-c28d-ff08d13f9c98"
      },
      "execution_count": null,
      "outputs": [
        {
          "output_type": "stream",
          "name": "stdout",
          "text": [
            "Enter your name: Vidhi\n",
            "Enter our age: 9\n",
            "Enter the grade in which you study: 5\n",
            "Enter your address: Mumbai\n",
            "Enter your hobby: Drawing\n",
            "\n",
            "\n",
            "My name is Vidhi and I am 9 years old. \n",
            "I study in 5th grade and I live in Mumbai. \n",
            "My hobby is Drawing.\n"
          ]
        }
      ]
    },
    {
      "cell_type": "code",
      "source": [
        "#program for chatbot\n",
        "print(\"Hi, I am your chatbot. What is your name?\")\n",
        "name=input()\n",
        "print(\"Oh {}, In which grade do you study?\".format(name))\n",
        "grade=int(input())\n",
        "print(\"That great! You're in {}th grade. \\nCan I ask you a question? yes or no?\".format(grade))\n",
        "reply=input()\n",
        "\n",
        "if reply==\"yes\":\n",
        "  print(\"What is 2 + 2?\")\n",
        "  answer=int(input())\n",
        "  if answer==4:\n",
        "    print(\"That's the correct answer. Bye.\")\n",
        "  else:\n",
        "    print(\"No, The answer is 4. Bye.\")\n",
        "else:\n",
        "  print(\"Okay. bye.\")"
      ],
      "metadata": {
        "colab": {
          "base_uri": "https://localhost:8080/"
        },
        "id": "wku4IduTXHzJ",
        "outputId": "79e05f66-50c1-46da-b30b-d4e631912ee1"
      },
      "execution_count": null,
      "outputs": [
        {
          "output_type": "stream",
          "name": "stdout",
          "text": [
            "Hi, I am your chatbot. What is your name?\n",
            "Shweta\n",
            "Oh Shweta, In which grade do you study?\n",
            "9\n",
            "That great! You're in 9th grade. \n",
            "Can I ask you a question? yes or no?\n",
            "yes\n",
            "What is 2 + 2?\n",
            "4\n",
            "That's the correct answer. Bye.\n"
          ]
        }
      ]
    },
    {
      "cell_type": "code",
      "source": [
        "#Program to calcualte total amount to charge from customer\n",
        "books=int(input(\"Enter the number of books purchased: \"))\n",
        "amount=books*2\n",
        "print(\"Your total is {}.\".format(amount))"
      ],
      "metadata": {
        "colab": {
          "base_uri": "https://localhost:8080/"
        },
        "id": "UIryhVcNhCL9",
        "outputId": "e6eaf3a5-8748-4430-e979-6b909e81983a"
      },
      "execution_count": null,
      "outputs": [
        {
          "output_type": "stream",
          "name": "stdout",
          "text": [
            "Enter the number of books purchased: 3\n",
            "Your total is 6.\n"
          ]
        }
      ]
    },
    {
      "cell_type": "code",
      "source": [
        "#Program to add, subtract, multiply and divide two numbers.\n",
        "a=int(input(\"Enter the 1st number: \"))\n",
        "b=int(input(\"Enter the 2nd number: \"))\n",
        "print(\"\\nThe addition is \",a+b)\n",
        "print(\"The subtration is \",a-b)\n",
        "print(\"The Multiplication is \",a*b)\n",
        "print(\"The Division is \",a/b)"
      ],
      "metadata": {
        "colab": {
          "base_uri": "https://localhost:8080/"
        },
        "id": "Q2XAVFc6iJvi",
        "outputId": "09e18ed6-d236-4c0b-b958-b50fec684085"
      },
      "execution_count": null,
      "outputs": [
        {
          "output_type": "stream",
          "name": "stdout",
          "text": [
            "Enter the 1st number: 45\n",
            "Enter the 2nd number: 32\n",
            "\n",
            "The addition is  77\n",
            "The subtration is  13\n",
            "The Multiplication is  1440\n",
            "The Division is  1.40625\n"
          ]
        }
      ]
    },
    {
      "cell_type": "code",
      "source": [
        "#Program to calculate age using birth year and current year\n",
        "birth_year=int(input(\"Enter your year of birth: \"))\n",
        "age=2024-birth_year\n",
        "print(\"Your age is {}.\".format(age))"
      ],
      "metadata": {
        "colab": {
          "base_uri": "https://localhost:8080/"
        },
        "id": "RRMeWoSRi2fr",
        "outputId": "648cd5f1-a70a-4d6e-e7f9-6599d9c331f5"
      },
      "execution_count": null,
      "outputs": [
        {
          "output_type": "stream",
          "name": "stdout",
          "text": [
            "Enter your year of birth: 1977\n",
            "Your age is 47.\n"
          ]
        }
      ]
    }
  ]
}