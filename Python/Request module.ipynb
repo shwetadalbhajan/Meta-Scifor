{
  "nbformat": 4,
  "nbformat_minor": 0,
  "metadata": {
    "colab": {
      "provenance": []
    },
    "kernelspec": {
      "name": "python3",
      "display_name": "Python 3"
    },
    "language_info": {
      "name": "python"
    }
  },
  "cells": [
    {
      "cell_type": "code",
      "execution_count": null,
      "metadata": {
        "colab": {
          "base_uri": "https://localhost:8080/"
        },
        "id": "EUkjevruomIe",
        "outputId": "63a7918d-400a-444f-c53f-3d984c5edf34"
      },
      "outputs": [
        {
          "output_type": "stream",
          "name": "stdout",
          "text": [
            "{\"categories\":[],\"created_at\":\"2020-01-05 13:42:24.40636\",\"icon_url\":\"https://api.chucknorris.io/img/avatar/chuck-norris.png\",\"id\":\"L0bED93XQ6mnUrVDxnXaQg\",\"updated_at\":\"2020-01-05 13:42:24.40636\",\"url\":\"https://api.chucknorris.io/jokes/L0bED93XQ6mnUrVDxnXaQg\",\"value\":\"President Bush DID have a sure fire plan to end the war in Iraq, However Chuck Norris was busy that day.\"}\n"
          ]
        }
      ],
      "source": [
        "#Get Method\n",
        "import requests\n",
        "url=\" https://api.chucknorris.io/jokes/random\"\n",
        "response=requests.get(url)\n",
        "if response.status_code==200:\n",
        "    data=response.text\n",
        "    print(data)\n",
        "else:\n",
        "    print(\"Error:\",response.status_code)"
      ]
    },
    {
      "cell_type": "code",
      "source": [
        "#Post Method\n",
        "import requests\n",
        "url=\"https://jsonplaceholder.typicode.com/todos/\"\n",
        "data={\n",
        "    \"userId\": 11,\n",
        "    \"id\": 100,\n",
        "    \"title\": \"Shweta's Task\",\n",
        "    \"completed\": True\n",
        "  }\n",
        "response=requests.post(url,data=data)\n",
        "if response.status_code==201:\n",
        "    print(\"Data posted successfully!!\")\n",
        "    print(response.text)\n",
        "else:\n",
        "    print(\"Error:\",response.status_code)"
      ],
      "metadata": {
        "colab": {
          "base_uri": "https://localhost:8080/"
        },
        "id": "Zl61-azqsMPj",
        "outputId": "126401de-2253-497f-fd75-ab613d90afe7"
      },
      "execution_count": null,
      "outputs": [
        {
          "output_type": "stream",
          "name": "stdout",
          "text": [
            "Data posted successfully!!\n",
            "{\n",
            "  \"userId\": \"11\",\n",
            "  \"id\": 201,\n",
            "  \"title\": \"Shweta's Task\",\n",
            "  \"completed\": \"True\"\n",
            "}\n"
          ]
        }
      ]
    },
    {
      "cell_type": "code",
      "source": [
        "#Random Password Generator\n",
        "import random\n",
        "import string\n",
        "def password(length):\n",
        "  char=string.ascii_letters + string.digits + string.punctuation\n",
        "  password=\"\".join(random.sample(char,length))\n",
        "  return password\n",
        "\n",
        "lenght=int(input(\"Enter the lenght of the password you want: \"))\n",
        "print(\"Your password is\",password(lenght))"
      ],
      "metadata": {
        "colab": {
          "base_uri": "https://localhost:8080/"
        },
        "id": "KT-gOOj6tJLf",
        "outputId": "94662b7b-c980-4aed-decb-428d2ba838e8"
      },
      "execution_count": null,
      "outputs": [
        {
          "output_type": "stream",
          "name": "stdout",
          "text": [
            "Enter the lenght of the password you want: 6\n",
            "Your password is 5p3s+i\n"
          ]
        }
      ]
    },
    {
      "cell_type": "code",
      "source": [
        "#Random Quote Engine\n",
        "import requests\n",
        "import random\n",
        "url=\"https://fake-json-api.mock.beeceptor.com/users\"\n",
        "response=requests.get(url)\n",
        "if response.status_code==200:\n",
        "    print(\"Data fetched Successully\")\n",
        "    random_user=random.choice(response.json())\n",
        "    print(random_user)\n",
        "else:\n",
        "    print(\"Error:\",response.status_code)"
      ],
      "metadata": {
        "id": "3PalKM7vuxdn",
        "colab": {
          "base_uri": "https://localhost:8080/"
        },
        "outputId": "c888c760-25d8-4592-9d28-597a279c48c4"
      },
      "execution_count": null,
      "outputs": [
        {
          "output_type": "stream",
          "name": "stdout",
          "text": [
            "Data fetched Successully\n",
            "{'id': 8, 'name': 'River Schinner', 'company': 'Kenya', 'username': 'Mozelle.Klein34', 'email': 'Jarrod.Heller@hotmail.com', 'address': '455 E Central Avenue', 'zip': '13227', 'state': 'Maine', 'country': 'Iran', 'phone': '1-236-810-2188 x3078', 'photo': 'https://json-server.dev/ai-profiles/1.png'}\n"
          ]
        }
      ]
    }
  ]
}