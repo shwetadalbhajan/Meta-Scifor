{
  "nbformat": 4,
  "nbformat_minor": 0,
  "metadata": {
    "colab": {
      "provenance": []
    },
    "kernelspec": {
      "name": "python3",
      "display_name": "Python 3"
    },
    "language_info": {
      "name": "python"
    }
  },
  "cells": [
    {
      "cell_type": "code",
      "execution_count": null,
      "metadata": {
        "colab": {
          "base_uri": "https://localhost:8080/"
        },
        "id": "78DJryijRJ_3",
        "outputId": "f3304266-35a3-47fa-d9d0-16135abaffa6"
      },
      "outputs": [
        {
          "output_type": "stream",
          "name": "stdout",
          "text": [
            "The remaining chocolates are 15\n"
          ]
        }
      ],
      "source": [
        "#Number of remaining chocolates\n",
        "chocolates = 327\n",
        "students = 78\n",
        "remaining = chocolates % students\n",
        "print(\"The remaining chocolates are\",remaining)"
      ]
    },
    {
      "cell_type": "code",
      "source": [
        "#Program to thank the customers.\n",
        "name=input(\"Enter your name: \")\n",
        "age=int(input(\"Enter your age: \"))\n",
        "mobile=int(input(\"Enter your mobile number: \"))\n",
        "email=input(\"Enter your email address: \")\n",
        "print(\"\\nHi\",name,\"!! Thanks for visiting our restaurant and registering for our lucky draw competition on our 25th Anniversary.\")\n",
        "print(\"Once the lucky draw results are announced you will receive a message on your mobile number:\",mobile)\n",
        "print(\"A detailed description of your gift will be sent to your email Id:\",email)\n",
        "print(\"Thank you for being a valued customer,\",name,\"!!\")\n",
        "print(\"Domino's\")"
      ],
      "metadata": {
        "colab": {
          "base_uri": "https://localhost:8080/"
        },
        "id": "TibHcqE83U0D",
        "outputId": "23201dc1-dacb-4770-b1d6-0f96c5d233b2"
      },
      "execution_count": null,
      "outputs": [
        {
          "output_type": "stream",
          "name": "stdout",
          "text": [
            "Enter your name: shweta\n",
            "Enter your age: 22\n",
            "Enter your mobile number: 88500573\n",
            "Enter your email address: shwetad@gmail.com\n",
            "\n",
            "Hi shweta !! Thanks for visiting our restaurant and registering for our lucky draw competition on our 25th Anniversary.\n",
            "Once the lucky draw results are announced you will receive a message on your mobile number: 88500573\n",
            "A detailed description of your gift will be sent to your email Id: shwetad@gmail.com\n",
            "Thank you for being a valued customer, shweta !!\n",
            "Domino's\n"
          ]
        }
      ]
    },
    {
      "cell_type": "code",
      "source": [
        "#Program to find the total number of teams\n",
        "students=60\n",
        "students_per_team=4\n",
        "teams=students//students_per_team\n",
        "print(\"The number of teams will be\",teams)"
      ],
      "metadata": {
        "colab": {
          "base_uri": "https://localhost:8080/"
        },
        "id": "FL4p48lO45Mp",
        "outputId": "b212618c-291d-47af-dc4d-799dbad6a5b5"
      },
      "execution_count": null,
      "outputs": [
        {
          "output_type": "stream",
          "name": "stdout",
          "text": [
            "The number of teams will be 15\n"
          ]
        }
      ]
    },
    {
      "cell_type": "code",
      "source": [
        "#program to convert from fahrenheit to celcius\n",
        "temp=float(input(\"Enter the temperature in fahrenheit: \"))\n",
        "celsius=(temp-32) * 5/9\n",
        "print(\"The temperature in Celcuis will be {}°C\".format(celsius))"
      ],
      "metadata": {
        "colab": {
          "base_uri": "https://localhost:8080/"
        },
        "id": "Hr9V4S8c6C6l",
        "outputId": "a5b5e563-5db1-47e4-8fab-2220b040a86e"
      },
      "execution_count": null,
      "outputs": [
        {
          "output_type": "stream",
          "name": "stdout",
          "text": [
            "Enter the temperature in fahrenheit: 45\n",
            "The temperature in Celcuis will be 7.222222222222222°C\n"
          ]
        }
      ]
    },
    {
      "cell_type": "code",
      "source": [
        "#program to convert from celcius to fahrenheit\n",
        "temp=float(input(\"Enter the temperature in celsius: \"))\n",
        "fahr=(temp*9/5) + 32\n",
        "print(\"The temperature in Fahrenheit will be {}F\".format(fahr))"
      ],
      "metadata": {
        "colab": {
          "base_uri": "https://localhost:8080/"
        },
        "id": "fG78pZTX7jAT",
        "outputId": "e8d544f4-c675-4e64-e7fa-49340ad0e1c3"
      },
      "execution_count": null,
      "outputs": [
        {
          "output_type": "stream",
          "name": "stdout",
          "text": [
            "Enter the temperature in celsius: 90\n",
            "The temperature in Fahrenheit will be 194.0F\n"
          ]
        }
      ]
    }
  ]
}