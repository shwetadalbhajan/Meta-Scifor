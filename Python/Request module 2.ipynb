{
  "nbformat": 4,
  "nbformat_minor": 0,
  "metadata": {
    "colab": {
      "provenance": []
    },
    "kernelspec": {
      "name": "python3",
      "display_name": "Python 3"
    },
    "language_info": {
      "name": "python"
    }
  },
  "cells": [
    {
      "cell_type": "code",
      "execution_count": null,
      "metadata": {
        "colab": {
          "base_uri": "https://localhost:8080/"
        },
        "id": "qe8SpOZGOQ9L",
        "outputId": "5b10ba49-0203-4d5c-ea52-cf16235b9336"
      },
      "outputs": [
        {
          "output_type": "stream",
          "name": "stdout",
          "text": [
            "[\n",
            "  {\n",
            "    \"postId\": 2,\n",
            "    \"id\": 6,\n",
            "    \"name\": \"et fugit eligendi deleniti quidem qui sint nihil autem\",\n",
            "    \"email\": \"Presley.Mueller@myrl.com\",\n",
            "    \"body\": \"doloribus at sed quis culpa deserunt consectetur qui praesentium\\naccusamus fugiat dicta\\nvoluptatem rerum ut voluptate autem\\nvoluptatem repellendus aspernatur dolorem in\"\n",
            "  },\n",
            "  {\n",
            "    \"postId\": 2,\n",
            "    \"id\": 7,\n",
            "    \"name\": \"repellat consequatur praesentium vel minus molestias voluptatum\",\n",
            "    \"email\": \"Dallas@ole.me\",\n",
            "    \"body\": \"maiores sed dolores similique labore et inventore et\\nquasi temporibus esse sunt id et\\neos voluptatem aliquam\\naliquid ratione corporis molestiae mollitia quia et magnam dolor\"\n",
            "  },\n",
            "  {\n",
            "    \"postId\": 2,\n",
            "    \"id\": 8,\n",
            "    \"name\": \"et omnis dolorem\",\n",
            "    \"email\": \"Mallory_Kunze@marie.org\",\n",
            "    \"body\": \"ut voluptatem corrupti velit\\nad voluptatem maiores\\net nisi velit vero accusamus maiores\\nvoluptates quia aliquid ullam eaque\"\n",
            "  },\n",
            "  {\n",
            "    \"postId\": 2,\n",
            "    \"id\": 9,\n",
            "    \"name\": \"provident id voluptas\",\n",
            "    \"email\": \"Meghan_Littel@rene.us\",\n",
            "    \"body\": \"sapiente assumenda molestiae atque\\nadipisci laborum distinctio aperiam et ab ut omnis\\net occaecati aspernatur odit sit rem expedita\\nquas enim ipsam minus\"\n",
            "  },\n",
            "  {\n",
            "    \"postId\": 2,\n",
            "    \"id\": 10,\n",
            "    \"name\": \"eaque et deleniti atque tenetur ut quo ut\",\n",
            "    \"email\": \"Carmen_Keeling@caroline.name\",\n",
            "    \"body\": \"voluptate iusto quis nobis reprehenderit ipsum amet nulla\\nquia quas dolores velit et non\\naut quia necessitatibus\\nnostrum quaerat nulla et accusamus nisi facilis\"\n",
            "  }\n",
            "]\n"
          ]
        }
      ],
      "source": [
        "#Get methond\n",
        "import requests\n",
        "url = \"https://jsonplaceholder.typicode.com/posts/2/comments\"\n",
        "response = requests.get(url)\n",
        "if response.status_code == 200:\n",
        "  print(response.text)\n",
        "else:\n",
        "  print(\"permission denied\")"
      ]
    },
    {
      "cell_type": "code",
      "source": [
        "#Post method\n",
        "import requests\n",
        "url = \"https://jsonplaceholder.typicode.com/posts\"\n",
        "data = {\n",
        "    \"userId\": 11,\n",
        "    \"id\": 101,\n",
        "    \"title\": \"Test Title\",\n",
        "    \"body\": \"Test Body\"\n",
        "}\n",
        "response = requests.post(url, data=data)\n",
        "if response.status_code == 201:\n",
        "    print(\"Post created successful!\")\n",
        "    print(\"Response Data:\", response.text)\n",
        "else:\n",
        "    print(\"Failed to create post\")"
      ],
      "metadata": {
        "colab": {
          "base_uri": "https://localhost:8080/"
        },
        "id": "qTGEPSE3e9uX",
        "outputId": "f50012e9-0872-48f1-825f-29349ea717ba"
      },
      "execution_count": null,
      "outputs": [
        {
          "output_type": "stream",
          "name": "stdout",
          "text": [
            "Post successful!\n",
            "Response Data: {\n",
            "  \"userId\": \"11\",\n",
            "  \"id\": 101,\n",
            "  \"title\": \"Test Title\",\n",
            "  \"body\": \"Test Body\"\n",
            "}\n"
          ]
        }
      ]
    },
    {
      "cell_type": "code",
      "source": [
        "#Put method\n",
        "url = \"https://jsonplaceholder.typicode.com/posts/1\"\n",
        "data = {\n",
        "    \"id\": 1,\n",
        "    \"title\": \"Updated Post Title\",\n",
        "    \"body\": \"This is the updated content of the post\",\n",
        "    \"userId\": 1\n",
        "}\n",
        "response = requests.put(url, data=data)\n",
        "if response.status_code == 200:\n",
        "    print(\"Post updated successfully!\")\n",
        "    print(\"Response Data:\", response.text)\n",
        "else:\n",
        "    print(\"Failed to update post\")"
      ],
      "metadata": {
        "colab": {
          "base_uri": "https://localhost:8080/"
        },
        "id": "1yH_vi4_fZZC",
        "outputId": "7291e719-a256-4ecb-cac5-0a9139c715ff"
      },
      "execution_count": null,
      "outputs": [
        {
          "output_type": "stream",
          "name": "stdout",
          "text": [
            "Post updated successfully!\n",
            "Response Data: {\n",
            "  \"id\": 1,\n",
            "  \"title\": \"Updated Post Title\",\n",
            "  \"body\": \"This is the updated content of the post\",\n",
            "  \"userId\": \"1\"\n",
            "}\n"
          ]
        }
      ]
    },
    {
      "cell_type": "code",
      "source": [
        "#Delete method\n",
        "url = \"https://jsonplaceholder.typicode.com/posts/1\"\n",
        "response = requests.delete(url)\n",
        "if response.status_code == 200:\n",
        "    print(\"Post deleted successfully!\")\n",
        "else:\n",
        "    print(\"Failed to delete post\")"
      ],
      "metadata": {
        "colab": {
          "base_uri": "https://localhost:8080/"
        },
        "id": "Mnza7QWol-j9",
        "outputId": "89e754a6-8e07-48c6-f977-bbf734794412"
      },
      "execution_count": null,
      "outputs": [
        {
          "output_type": "stream",
          "name": "stdout",
          "text": [
            "Post deleted successfully!\n"
          ]
        }
      ]
    },
    {
      "cell_type": "code",
      "source": [
        "#Patch method\n",
        "url = \"https://jsonplaceholder.typicode.com/posts/1\"\n",
        "data = {\n",
        "    \"title\": \"Patched Title\"\n",
        "}\n",
        "response = requests.patch(url, data=data)\n",
        "if response.status_code == 200:\n",
        "    print(\"Post patched successfully!\")\n",
        "    print(\"Response Data:\", response.text)\n",
        "else:\n",
        "    print(\"Failed to patch post\")"
      ],
      "metadata": {
        "colab": {
          "base_uri": "https://localhost:8080/"
        },
        "id": "uqxZG16EmDzE",
        "outputId": "cfaa3060-b074-434f-eccc-83462047cec8"
      },
      "execution_count": null,
      "outputs": [
        {
          "output_type": "stream",
          "name": "stdout",
          "text": [
            "Post patched successfully!\n",
            "Response Data: {\n",
            "  \"userId\": 1,\n",
            "  \"id\": 1,\n",
            "  \"title\": \"Patched Title\",\n",
            "  \"body\": \"quia et suscipit\\nsuscipit recusandae consequuntur expedita et cum\\nreprehenderit molestiae ut ut quas totam\\nnostrum rerum est autem sunt rem eveniet architecto\"\n",
            "}\n"
          ]
        }
      ]
    }
  ]
}