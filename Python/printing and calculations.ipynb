{
  "nbformat": 4,
  "nbformat_minor": 0,
  "metadata": {
    "colab": {
      "provenance": []
    },
    "kernelspec": {
      "name": "python3",
      "display_name": "Python 3"
    },
    "language_info": {
      "name": "python"
    }
  },
  "cells": [
    {
      "cell_type": "code",
      "execution_count": null,
      "metadata": {
        "colab": {
          "base_uri": "https://localhost:8080/"
        },
        "id": "LkeXztR3hBw4",
        "outputId": "e47fce7e-0f10-4523-d8c5-36020aee1ab1"
      },
      "outputs": [
        {
          "output_type": "stream",
          "name": "stdout",
          "text": [
            "     ( )      \n",
            "    (   )     \n",
            "   (     )    \n",
            "  (       ) \n",
            " (         ) \n",
            "  ***   *** \n",
            "     |  |    \n",
            "     |  |    \n",
            "     |  |    \n",
            "     |  |    \n",
            "     /  \\    \n",
            "    /    \\   \n",
            "********************\n",
            "Happy Birthday Victoria\n"
          ]
        }
      ],
      "source": [
        "#printing tree and a birthday wish\n",
        "print(\"     ( )      \")\n",
        "print(\"    (   )     \")\n",
        "print(\"   (     )    \")\n",
        "print(\"  (       ) \")\n",
        "print(\" (         ) \")\n",
        "print(\"  ***   *** \")\n",
        "print(\"     |  |    \")\n",
        "print(\"     |  |    \")\n",
        "print(\"     |  |    \")\n",
        "print(\"     |  |    \")\n",
        "print(\"     /  \\    \")\n",
        "print(\"    /    \\   \")\n",
        "print(\"********************\")\n",
        "print(\"Happy Birthday Victoria\")"
      ]
    },
    {
      "cell_type": "code",
      "source": [
        "#Finding average percentage\n",
        "s1=85\n",
        "s2=96\n",
        "s3=92.67\n",
        "s4=71.89\n",
        "s5=67\n",
        "s6=73.5\n",
        "s7=55\n",
        "s8=58.12\n",
        "s9=99.23\n",
        "s10=73\n",
        "average=(s1+s2+s3+s4+s5+s6+s7+s8+s9+s10)/10\n",
        "print(\"Average pecentage of students:\",average)"
      ],
      "metadata": {
        "colab": {
          "base_uri": "https://localhost:8080/"
        },
        "id": "tKi_8bXRiMG7",
        "outputId": "ae9948b7-58cf-42ff-ce87-b9db95cba288"
      },
      "execution_count": null,
      "outputs": [
        {
          "output_type": "stream",
          "name": "stdout",
          "text": [
            "Average pecentage of students: 77.14099999999999\n"
          ]
        }
      ]
    },
    {
      "cell_type": "code",
      "source": [
        "#Finding armstong number\n",
        "number=153\n",
        "a=1**3\n",
        "b=5**3\n",
        "c=3**3\n",
        "sum=a+b+c\n",
        "if sum==number:\n",
        "    print(\"The number is armstrong\")\n",
        "else:\n",
        "    print(\"The number is not armstrong\")"
      ],
      "metadata": {
        "colab": {
          "base_uri": "https://localhost:8080/"
        },
        "id": "qT-WIP1Ri-jx",
        "outputId": "358c91fd-6e23-449e-9860-fe8309cc59d7"
      },
      "execution_count": null,
      "outputs": [
        {
          "output_type": "stream",
          "name": "stdout",
          "text": [
            "The number is armstrong\n"
          ]
        }
      ]
    },
    {
      "cell_type": "code",
      "source": [
        "#Finding if the number is even or odd\n",
        "number=24\n",
        "remainder=number%2\n",
        "print(\"The remainder of {} is {}\".format(number,remainder))\n",
        "if remainder==0:\n",
        "    print(\"The number is even\")\n",
        "else:\n",
        "    print(\"The number is odd\")"
      ],
      "metadata": {
        "colab": {
          "base_uri": "https://localhost:8080/"
        },
        "id": "tz10asTpj_0U",
        "outputId": "239c69f1-7105-4b2b-cf4c-dd734c47d398"
      },
      "execution_count": null,
      "outputs": [
        {
          "output_type": "stream",
          "name": "stdout",
          "text": [
            "The remainder of 24 is 0\n",
            "The number is even\n"
          ]
        }
      ]
    }
  ]
}