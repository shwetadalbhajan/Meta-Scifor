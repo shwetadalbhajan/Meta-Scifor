{
  "nbformat": 4,
  "nbformat_minor": 0,
  "metadata": {
    "colab": {
      "provenance": []
    },
    "kernelspec": {
      "name": "python3",
      "display_name": "Python 3"
    },
    "language_info": {
      "name": "python"
    }
  },
  "cells": [
    {
      "cell_type": "code",
      "execution_count": null,
      "metadata": {
        "colab": {
          "base_uri": "https://localhost:8080/"
        },
        "id": "iUOuaMqMkWcr",
        "outputId": "17a9d7d8-b431-492e-8f12-1786bf7162f9"
      },
      "outputs": [
        {
          "output_type": "stream",
          "name": "stdout",
          "text": [
            "Enter the name of your pet: hih\n",
            "True! The name is palindrome\n"
          ]
        }
      ],
      "source": [
        "#Program to find if the name is palindrome or not\n",
        "name=input(\"Enter the name of your pet: \")\n",
        "if(name==name[::-1]):\n",
        "  print(\"True! The name is palindrome\")\n",
        "else:\n",
        "  print(\"False! The name is not palindrome\")"
      ]
    },
    {
      "cell_type": "code",
      "source": [
        "#Prgram of the reverse and the secret code\n",
        "str=\"come here\"\n",
        "print(\"The reverse of the string will be\",str[::-1])\n",
        "spt=str.split(\" \")\n",
        "\n",
        "a=spt[0]\n",
        "even_a=a[::2]\n",
        "odd_a=a[1::2]\n",
        "part1=odd_a+even_a\n",
        "\n",
        "b=spt[1]\n",
        "even_b=b[::2]\n",
        "odd_b=b[1::2]\n",
        "part2=odd_b+even_b\n",
        "\n",
        "print(\"The secret code is =\",part1,part2)"
      ],
      "metadata": {
        "colab": {
          "base_uri": "https://localhost:8080/"
        },
        "id": "vPV80DNAlau7",
        "outputId": "a0cbb29a-14fb-4043-8430-dd32c68ce264"
      },
      "execution_count": null,
      "outputs": [
        {
          "output_type": "stream",
          "name": "stdout",
          "text": [
            "The reverse of the string will be ereh emoc\n",
            "The secret code is = oecm eehr\n"
          ]
        }
      ]
    },
    {
      "cell_type": "code",
      "source": [
        "#Program to verify if the number is correct or not\n",
        "number=input(\"Enter your phone number: \")\n",
        "if(number.isnumeric()):\n",
        "  if(len(number)==10):\n",
        "    if(number[0]==[\"9\",\"8\",\"7\"]):\n",
        "      print(\"Correct number\")\n",
        "    else:\n",
        "      print(\"Incorrect number\")\n",
        "  else:\n",
        "    print(\"Incorrect number\")\n",
        "else:\n",
        "  print(\"Incorrect number\")"
      ],
      "metadata": {
        "colab": {
          "base_uri": "https://localhost:8080/"
        },
        "id": "LsxOTcAQqPIi",
        "outputId": "865a0d7b-2487-4116-8d98-e3b8e25e8a19"
      },
      "execution_count": null,
      "outputs": [
        {
          "output_type": "stream",
          "name": "stdout",
          "text": [
            "Enter your phone number: 6789012345\n",
            "Incorrect number\n"
          ]
        }
      ]
    }
  ]
}