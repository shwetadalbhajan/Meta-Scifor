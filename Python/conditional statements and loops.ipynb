{
  "nbformat": 4,
  "nbformat_minor": 0,
  "metadata": {
    "colab": {
      "provenance": []
    },
    "kernelspec": {
      "name": "python3",
      "display_name": "Python 3"
    },
    "language_info": {
      "name": "python"
    }
  },
  "cells": [
    {
      "cell_type": "code",
      "execution_count": null,
      "metadata": {
        "colab": {
          "base_uri": "https://localhost:8080/"
        },
        "id": "L9ZJkoQ4lE9L",
        "outputId": "84bf01d4-c93c-4649-df65-1243ee0a3957"
      },
      "outputs": [
        {
          "output_type": "stream",
          "name": "stdout",
          "text": [
            "Enter the number of rows: 2\n",
            "Enter the number of columns: 3\n",
            "Total number of benches are: 6\n"
          ]
        }
      ],
      "source": [
        "#Program to count the number of benches\n",
        "rows=int(input(\"Enter the number of rows: \"))\n",
        "columns=int(input(\"Enter the number of columns: \"))\n",
        "total=rows*columns\n",
        "print(\"Total number of benches are:\",total)"
      ]
    },
    {
      "cell_type": "code",
      "source": [
        "#Autthorization code\n",
        "guests=0\n",
        "while True:\n",
        "  code=int(input(\"Enter the code: \"))1\n",
        "  if code==1:\n",
        "    guests=guests+1\n",
        "    print(\"Door Opended.\")\n",
        "    print(\"Welcome to the party! We hope you Enjoy.\")\n",
        "  elif code==0:\n",
        "    print(\"Access Granted.\")\n",
        "    print(\"Door Opended.\")\n",
        "  else:\n",
        "    print(\"Access Denied.\")\n",
        "    print(\"Please enter the valid code.\")\n",
        "    break\n",
        "\n",
        "print(\"Number of guests:\",guests)"
      ],
      "metadata": {
        "colab": {
          "base_uri": "https://localhost:8080/"
        },
        "id": "w4bZwu8Sm4SQ",
        "outputId": "bf9fdc34-4880-4d25-e394-dd01a6e7b576"
      },
      "execution_count": null,
      "outputs": [
        {
          "output_type": "stream",
          "name": "stdout",
          "text": [
            "Enter the code: 1\n",
            "Door Opended.\n",
            "Welcome to the party! We hope you Enjoy.\n",
            "Enter the code: 1\n",
            "Door Opended.\n",
            "Welcome to the party! We hope you Enjoy.\n",
            "Enter the code: 0\n",
            "Access Granted.\n",
            "Door Opended.\n",
            "Enter the code: 9\n",
            "Access Denied.\n",
            "Please enter the valid code.\n",
            "Number of guests: 2\n"
          ]
        }
      ]
    },
    {
      "cell_type": "code",
      "source": [
        "#printing Even and odd numbers using for loop\n",
        "even=[]\n",
        "odd=[]\n",
        "for i in range(11,21):\n",
        "  if i%2==0:\n",
        "    even.append(i)\n",
        "  else:\n",
        "    odd.append(i)\n",
        "print(\"Even numbers are:\",even)\n",
        "print(\"Odd numbers are:\",odd)"
      ],
      "metadata": {
        "colab": {
          "base_uri": "https://localhost:8080/"
        },
        "id": "PBqv8TcGof7a",
        "outputId": "d573c795-6fac-4beb-e68d-7fcb62e7f2d6"
      },
      "execution_count": null,
      "outputs": [
        {
          "output_type": "stream",
          "name": "stdout",
          "text": [
            "Even numbers are: [12, 14, 16, 18, 20]\n",
            "Odd numbers are: [11, 13, 15, 17, 19]\n"
          ]
        }
      ]
    },
    {
      "cell_type": "code",
      "source": [
        "#Checking the number of words in the essay\n",
        "essay=input(\"Enter the essay: \")\n",
        "words=essay.split(\" \")\n",
        "print(\"The number of words in the essay are:\",len(words))"
      ],
      "metadata": {
        "colab": {
          "base_uri": "https://localhost:8080/"
        },
        "id": "jH1RmvgqpbX1",
        "outputId": "45afaa5b-2a49-4df3-bd83-37b57ff71158"
      },
      "execution_count": null,
      "outputs": [
        {
          "output_type": "stream",
          "name": "stdout",
          "text": [
            "Enter the essay: hello my name is shwetta\n",
            "The number of words in the essay are: 5\n"
          ]
        }
      ]
    },
    {
      "cell_type": "code",
      "source": [
        "#Program to find the prime number\n",
        "num=int(input(\"Enter the number: \"))\n",
        "if num>1:\n",
        "  for i in range(2,num):\n",
        "    if num%i==0:\n",
        "      print(num,\"is not a prime number.\")\n",
        "      break\n",
        "  else:\n",
        "    print(num,\"is a prime number.\")"
      ],
      "metadata": {
        "colab": {
          "base_uri": "https://localhost:8080/"
        },
        "id": "4kPyoaqvqFm1",
        "outputId": "c95f2398-5d69-4e38-9ef2-3728109a2385"
      },
      "execution_count": null,
      "outputs": [
        {
          "output_type": "stream",
          "name": "stdout",
          "text": [
            "Enter the number: 2\n",
            "2 is a prime number.\n"
          ]
        }
      ]
    },
    {
      "cell_type": "code",
      "source": [
        "#Student data management\n",
        "student={10:\"Arjun\",11:\"Rajesh\",12:\"Rajesh\",13:\"Satish\"}\n",
        "ID=int(input(\"Enter the ID: \"))\n",
        "if ID in student:\n",
        "  print(\"Message sent to {}. The student name is {}.\\n\".format(ID,student[ID]))\n",
        "else:\n",
        "  print(\"ID does not exists.\\n\")\n",
        "\n",
        "a={14:\"Steve\",15:\"John\"}\n",
        "student.update(a)\n",
        "print(student,\"\\n\")\n",
        "\n",
        "#Deleting value\n",
        "ID=int(input(\"Enter the ID which you want to delete: \"))\n",
        "if ID in student:\n",
        "  del student[ID]\n",
        "  print(\"ID {} is deleted.\".format(ID))\n",
        "  print(student,\"\\n\")\n",
        "else:\n",
        "  print(\"ID does not exists.\\n\")\n",
        "\n",
        "#Updating Value\n",
        "ID=int(input(\"Enter the ID which you want to update: \"))\n",
        "if ID in student:\n",
        "  name=input(\"Enter the name: \")\n",
        "  student[ID]=name\n",
        "  print(\"ID {} is updated.\".format(ID))\n",
        "  print(student,\"\\n\")\n",
        "else:\n",
        "  print(\"ID does not exists.\\n\")\n",
        "\n",
        "#Adding Value\n",
        "ID=int(input(\"Enter the ID which you want to add: \"))\n",
        "if ID not in student:\n",
        "  name=input(\"Enter the name: \")\n",
        "  student[ID]=name\n",
        "  print(\"ID {} is added.\".format(ID))\n",
        "  print(student,\"\\n\")\n",
        "else:\n",
        "  print(\"ID already exists.\\n\")"
      ],
      "metadata": {
        "colab": {
          "base_uri": "https://localhost:8080/"
        },
        "id": "KZLyZsKNqymw",
        "outputId": "a7327389-1128-4b47-847e-1d664fcd36a9"
      },
      "execution_count": null,
      "outputs": [
        {
          "output_type": "stream",
          "name": "stdout",
          "text": [
            "Enter the ID: 10\n",
            "Message sent to 10. The student name is Arjun.\n",
            "\n",
            "{10: 'Arjun', 11: 'Rajesh', 12: 'Rajesh', 13: 'Satish', 14: 'Steve', 15: 'John'} \n",
            "\n",
            "Enter the ID which you want to delete: 10\n",
            "ID 10 is deleted.\n",
            "{11: 'Rajesh', 12: 'Rajesh', 13: 'Satish', 14: 'Steve', 15: 'John'} \n",
            "\n",
            "Enter the ID which you want to update: 11\n",
            "Enter the name: Jayesh\n",
            "ID 11 is updated.\n",
            "{11: 'Jayesh', 12: 'Rajesh', 13: 'Satish', 14: 'Steve', 15: 'John'} \n",
            "\n",
            "Enter the ID which you want to add: 19\n",
            "Enter the name: Shweta\n",
            "ID 19 is added.\n",
            "{11: 'Jayesh', 12: 'Rajesh', 13: 'Satish', 14: 'Steve', 15: 'John', 19: 'Shweta'} \n",
            "\n"
          ]
        }
      ]
    }
  ]
}