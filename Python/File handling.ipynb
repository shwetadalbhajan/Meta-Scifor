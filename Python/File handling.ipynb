{
  "nbformat": 4,
  "nbformat_minor": 0,
  "metadata": {
    "colab": {
      "provenance": []
    },
    "kernelspec": {
      "name": "python3",
      "display_name": "Python 3"
    },
    "language_info": {
      "name": "python"
    }
  },
  "cells": [
    {
      "cell_type": "code",
      "execution_count": null,
      "metadata": {
        "colab": {
          "base_uri": "https://localhost:8080/"
        },
        "id": "kn3_VDfXpl1b",
        "outputId": "a38f9567-bad3-4826-a0b8-1d3dc4ce7dc6"
      },
      "outputs": [
        {
          "output_type": "stream",
          "name": "stdout",
          "text": [
            "Prime numbers from 1 to 100:\n",
            "[2, 3, 5, 7, 11, 13, 17, 19, 23, 29, 31, 37, 41, 43, 47, 53, 59, 61, 67, 71, 73, 79, 83, 89, 97]\n",
            "\n",
            "Composite numbers from 1 to 100:\n",
            "[4, 6, 8, 9, 10, 12, 14, 15, 16, 18, 20, 21, 22, 24, 25, 26, 27, 28, 30, 32, 33, 34, 35, 36, 38, 39, 40, 42, 44, 45, 46, 48, 49, 50, 51, 52, 54, 55, 56, 57, 58, 60, 62, 63, 64, 65, 66, 68, 69, 70, 72, 74, 75, 76, 77, 78, 80, 81, 82, 84, 85, 86, 87, 88, 90, 91, 92, 93, 94, 95, 96, 98, 99, 100]\n"
          ]
        }
      ],
      "source": [
        "#Program to find the prime and composite number from 1 to 100.\n",
        "primes = []\n",
        "composites = []\n",
        "\n",
        "for num in range(1, 101):\n",
        "    if num > 1:\n",
        "        is_prime = True\n",
        "        for i in range(2, int(num**0.5) + 1):\n",
        "            if num % i == 0:\n",
        "                is_prime = False\n",
        "                break\n",
        "        if is_prime:\n",
        "            primes.append(num)\n",
        "        else:\n",
        "            composites.append(num)\n",
        "\n",
        "print(\"Prime numbers from 1 to 100:\")\n",
        "print(primes)\n",
        "print()\n",
        "\n",
        "print(\"Composite numbers from 1 to 100:\")\n",
        "print(composites)"
      ]
    },
    {
      "cell_type": "code",
      "source": [
        "#Multiplication table\n",
        "number=int(input(\"Enter the number:\"))\n",
        "for i in range(1,11):\n",
        "  print(number,\"x\",i,\"=\",number*i)"
      ],
      "metadata": {
        "colab": {
          "base_uri": "https://localhost:8080/"
        },
        "id": "CYnBfZlYsBd5",
        "outputId": "ce629a5c-4af5-4d41-9782-0c92b055ad88"
      },
      "execution_count": null,
      "outputs": [
        {
          "output_type": "stream",
          "name": "stdout",
          "text": [
            "Enter the number:5\n",
            "5 x 1 = 5\n",
            "5 x 2 = 10\n",
            "5 x 3 = 15\n",
            "5 x 4 = 20\n",
            "5 x 5 = 25\n",
            "5 x 6 = 30\n",
            "5 x 7 = 35\n",
            "5 x 8 = 40\n",
            "5 x 9 = 45\n",
            "5 x 10 = 50\n"
          ]
        }
      ]
    },
    {
      "cell_type": "code",
      "source": [
        "#Creating a quiz module\n",
        "def quiz():\n",
        "  score=0\n",
        "  print(\"What is the capital of India?\")\n",
        "  print(\"A. Mumbai\")\n",
        "  print(\"B. Delhi\")\n",
        "  answer1=input()\n",
        "  if answer1==\"B\":\n",
        "    print(\"Correct answer!\")\n",
        "    score=score+1\n",
        "  elif answer1==\"A\":\n",
        "    print(\"Wrong answer!\")\n",
        "  else:\n",
        "    print(\"Incorrect Option!\")\n",
        "\n",
        "  print(\"What is the national bird of India?\")\n",
        "  print(\"A. Peacock\")\n",
        "  print(\"B. Eagle\")\n",
        "  answer2=input()\n",
        "  if answer2==\"A\":\n",
        "    print(\"Correct answer!\")\n",
        "    score=score+1\n",
        "  elif answer2==\"B\":\n",
        "    print(\"Wrong answer!\")\n",
        "  else:\n",
        "    print(\"Incorrect Option!\")\n",
        "\n",
        "  print(\"What is the national animal of India?\")\n",
        "  print(\"A. Lion\")\n",
        "  print(\"B. Elephant\")\n",
        "  answer3=input()\n",
        "  if answer3==\"B\":\n",
        "    print(\"Correct answer!\")\n",
        "    score=score+1\n",
        "  elif answer3==\"A\":\n",
        "    print(\"Wrong answer!\")\n",
        "  else:\n",
        "    print(\"Incorrect Option!\")\n",
        "\n",
        "  print(\"Your total score is {}/3.\".format(score))\n",
        "\n",
        "quiz()"
      ],
      "metadata": {
        "colab": {
          "base_uri": "https://localhost:8080/"
        },
        "id": "CFwMu4dRsBZT",
        "outputId": "1ea07d71-2467-4139-c689-5b76d31ef0bc"
      },
      "execution_count": null,
      "outputs": [
        {
          "output_type": "stream",
          "name": "stdout",
          "text": [
            "What is the capital of India?\n",
            "A. Mumbai\n",
            "B. Delhi\n",
            "B\n",
            "Correct answer!\n",
            "What is the national bird of India?\n",
            "A. Peacock\n",
            "B. Eagle\n",
            "B\n",
            "Wrong answer!\n",
            "What is the national animal of India?\n",
            "A. Lion\n",
            "B. Elephant\n",
            "A\n",
            "Wrong answer!\n",
            "Your total score is 1/3.\n"
          ]
        }
      ]
    },
    {
      "cell_type": "code",
      "source": [
        "#Reading the file content/content/sample_data/demo.txt\",'r'\n",
        "file=open(\"/content/sample_data/demo.txt\",'r')\n",
        "print(file.read())"
      ],
      "metadata": {
        "colab": {
          "base_uri": "https://localhost:8080/"
        },
        "id": "kSAIuEMjva0p",
        "outputId": "f8b0bf29-2abd-4168-cd4e-5f3412039eda"
      },
      "execution_count": null,
      "outputs": [
        {
          "output_type": "stream",
          "name": "stdout",
          "text": [
            "Hello This is Shweta!\n",
            "This is @ demo file 123.\n",
            "Hello hiii byee #\n",
            "This is a line.\n"
          ]
        }
      ]
    },
    {
      "cell_type": "code",
      "source": [
        "#Finding numeric value and the line number from the text file\n",
        "with open(\"/content/sample_data/demo.txt\",'r') as file:\n",
        "  for line_num, line in enumerate(file,start=1):\n",
        "    if any(char.isdigit() for char in line):\n",
        "      print(\"Line {}: {}\".format(line_num,line.strip()))"
      ],
      "metadata": {
        "colab": {
          "base_uri": "https://localhost:8080/"
        },
        "id": "hmQtePjiwcBH",
        "outputId": "1779ce9c-0d8b-4246-dbf5-728e6ca6aeac"
      },
      "execution_count": null,
      "outputs": [
        {
          "output_type": "stream",
          "name": "stdout",
          "text": [
            "Line 2: This is @ demo file 123.\n"
          ]
        }
      ]
    },
    {
      "cell_type": "code",
      "source": [
        "#BMI Calculation and appending data to the file\n",
        "import datetime\n",
        "h=int(input(\"Enter the height in cm: \"))\n",
        "w=int(input(\"Enter the weight in kg: \"))\n",
        "bmi=w/(h/100)**2\n",
        "print(\"Your BMI is\",bmi)\n",
        "\n",
        "with open(\"/content/sample_data/BMI.txt\",'a') as file:\n",
        "  date = datetime.datetime.now().strftime(\"%Y-%m-%d %H:%M:%S\")\n",
        "  file.write(\"Date: {}, BMI: {}\\n\".format(date,bmi))\n",
        "  print(\"BMI data saved successfully!\")\n",
        "  print()\n",
        "\n",
        "with open(\"/content/sample_data/BMI.txt\",'r') as file:\n",
        "  print(file.read())"
      ],
      "metadata": {
        "id": "Eh9F2vxQ2P-B",
        "colab": {
          "base_uri": "https://localhost:8080/"
        },
        "outputId": "f4736dd5-13bd-4dc5-f3b2-9ceb9aeca01b"
      },
      "execution_count": null,
      "outputs": [
        {
          "output_type": "stream",
          "name": "stdout",
          "text": [
            "Enter the height in cm: 164\n",
            "Enter the weight in kg: 60\n",
            "Your BMI is 22.308149910767405\n",
            "BMI data saved successfully!\n",
            "\n",
            "Date: 2024-09-13 16:08:40, BMI: 0.002258270917234371\n",
            "Date: 2024-09-13 16:10:39, BMI: 0.00223081499107674\n",
            "Date: 2024-09-13 16:11:32, BMI: 41.66666666666667\n",
            "Date: 2024-09-13 16:14:13, BMI: 22.308149910767405\n",
            "Date: 2024-09-13 16:22:54, BMI: 22.308149910767405\n",
            "Date: 2024-09-13 16:23:43, BMI: 22.308149910767405\n",
            "Date: 2024-09-13 16:24:20, BMI: 22.308149910767405\n",
            "\n"
          ]
        }
      ]
    },
    {
      "cell_type": "code",
      "source": [
        "#Apending serial numbers in the file\n",
        "with open('/content/sample_data/demo.txt', 'r') as file:\n",
        "  lines = file.readlines()\n",
        "\n",
        "with open('/content/sample_data/demo.txt', 'w') as file:\n",
        "  for line_number, line in enumerate(lines, 1):\n",
        "    file.write(f\"{line_number}. {line}\")\n",
        "print(\"Serial numbers appended successfully!\")\n",
        "\n",
        "with open('/content/sample_data/demo.txt', 'r') as file:\n",
        "  print(file.read())"
      ],
      "metadata": {
        "id": "olsV1acP2128",
        "colab": {
          "base_uri": "https://localhost:8080/"
        },
        "outputId": "6c014ab9-3b9d-4860-f8dd-e51565d14698"
      },
      "execution_count": null,
      "outputs": [
        {
          "output_type": "stream",
          "name": "stdout",
          "text": [
            "Serial numbers appended successfully!\n",
            "1. Hello This is Shweta!\n",
            "2. This is @ demo file 123.\n",
            "3. Hello hiii byee #\n",
            "4. This is a line.\n"
          ]
        }
      ]
    },
    {
      "cell_type": "code",
      "source": [
        "#Program to replace the word (I have took a random word to replace the word)\n",
        "with open('/content/sample_data/demo.txt', 'r') as file:\n",
        "  content = file.read()\n",
        "  print(\"Content before updation:\\n\",content)\n",
        "\n",
        "updated_content = content.replace('Hello', 'Namaste')\n",
        "with open('/content/sample_data/demo.txt', 'w') as file:\n",
        "  file.write(updated_content)\n",
        "\n",
        "with open('/content/sample_data/demo.txt', 'r') as file:\n",
        "  print(\"Content after updation:\\n\",file.read())"
      ],
      "metadata": {
        "colab": {
          "base_uri": "https://localhost:8080/"
        },
        "id": "P87yhexjLuGG",
        "outputId": "f3702b72-bcd5-4d19-c870-19fc1d40bc82"
      },
      "execution_count": null,
      "outputs": [
        {
          "output_type": "stream",
          "name": "stdout",
          "text": [
            "Content before updation:\n",
            " 1. Hello This is Shweta!\n",
            "2. This is @ demo file 123.\n",
            "3. Hello hiii byee #\n",
            "4. This is a line.\n",
            "Content after updation:\n",
            " 1. Namaste This is Shweta!\n",
            "2. This is @ demo file 123.\n",
            "3. Namaste hiii byee #\n",
            "4. This is a line.\n"
          ]
        }
      ]
    },
    {
      "cell_type": "code",
      "source": [
        "#Creating new line when number followed by period is encountered\n",
        "import re\n",
        "with open(\"/content/sample_data/demo2.txt\", 'r') as file:\n",
        "  content = file.read()\n",
        "  print(\"Content before updation:\")\n",
        "  print(content)\n",
        "  print()\n",
        "\n",
        "updated_content = re.sub(r'(\\d+\\.)', r'\\1\\n', content)\n",
        "\n",
        "with open(\"/content/sample_data/demo2.txt\", 'w') as file:\n",
        "  file.write(updated_content)\n",
        "\n",
        "with open(\"/content/sample_data/demo2.txt\", 'r') as file:\n",
        "  print(\"Content after updation:\")\n",
        "  print(file.read())"
      ],
      "metadata": {
        "colab": {
          "base_uri": "https://localhost:8080/"
        },
        "id": "j5ho0beLN4bc",
        "outputId": "ac83ecaa-f523-4ac2-b4f2-fc9fa04d3762"
      },
      "execution_count": null,
      "outputs": [
        {
          "output_type": "stream",
          "name": "stdout",
          "text": [
            "Content before updation:\n",
            "This is shweta 124.Hello Hiii 23.\n",
            "\n",
            "\n",
            "Content after updation:\n",
            "This is shweta 124.\n",
            "Hello Hiii 23.\n",
            "\n",
            "\n"
          ]
        }
      ]
    },
    {
      "cell_type": "code",
      "source": [
        "#Program to remove duplicate words\n",
        "with open(\"/content/sample_data/demo3.txt\", 'r') as file:\n",
        "    content = file.read()\n",
        "    print(\"Content before updation:\")\n",
        "    print(content)\n",
        "    print()\n",
        "\n",
        "words = content.split()\n",
        "unique_words = list(dict.fromkeys(words))\n",
        "updated_content = ' '.join(unique_words)\n",
        "updated_content = updated_content.replace('. ', '.\\n')\n",
        "\n",
        "with open(\"/content/sample_data/demo3.txt\", 'w') as file:\n",
        "    file.write(updated_content)\n",
        "    print(\"Content after updation:\")\n",
        "    print(updated_content)"
      ],
      "metadata": {
        "colab": {
          "base_uri": "https://localhost:8080/"
        },
        "id": "NzZ80dHAQsrN",
        "outputId": "ea68f356-b4d4-4aab-d2ac-17a7dafc10e8"
      },
      "execution_count": null,
      "outputs": [
        {
          "output_type": "stream",
          "name": "stdout",
          "text": [
            "Content before updation:\n",
            "This is a sample text file.\n",
            "It is meant for testing. \n",
            "Testing the program to remove remove repeated repeated words. \n",
            "Words should only appear once. \n",
            "Make sure sure to check the output.\n",
            "\n",
            "Content after updation:\n",
            "This is a sample text file.\n",
            "It meant for testing.\n",
            "Testing the program to remove repeated words.\n",
            "Words should only appear once.\n",
            "Make sure check output.\n"
          ]
        }
      ]
    }
  ]
}