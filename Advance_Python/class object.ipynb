{
  "nbformat": 4,
  "nbformat_minor": 0,
  "metadata": {
    "colab": {
      "provenance": []
    },
    "kernelspec": {
      "name": "python3",
      "display_name": "Python 3"
    },
    "language_info": {
      "name": "python"
    }
  },
  "cells": [
    {
      "cell_type": "code",
      "execution_count": null,
      "metadata": {
        "colab": {
          "base_uri": "https://localhost:8080/"
        },
        "id": "RY6fEk6oPKPG",
        "outputId": "2c52f2b9-1a38-4586-e742-d0a655eaa787"
      },
      "outputs": [
        {
          "output_type": "stream",
          "name": "stdout",
          "text": [
            "Enter the first number: 8\n",
            "Enter the second number: 4\n",
            "\n",
            "The Addition value is 12\n",
            "The subtraction value is 4\n",
            "The multiplication value is 32\n",
            "The division value is 2.0\n"
          ]
        }
      ],
      "source": [
        "#Calculator using nested class object\n",
        "class Calculator:\n",
        "\n",
        "  class add:\n",
        "    def __init__(self,a,b):\n",
        "      self.a=a\n",
        "      self.b=b\n",
        "    def addition(self):\n",
        "        return self.a+self.b\n",
        "\n",
        "  class sub:\n",
        "    def __init__(self,a,b):\n",
        "      self.a=a\n",
        "      self.b=b\n",
        "    def subtraction(self):\n",
        "        return self.a-self.b\n",
        "\n",
        "  class mul:\n",
        "    def __init__(self,a,b):\n",
        "      self.a=a\n",
        "      self.b=b\n",
        "    def multiplication(self):\n",
        "        return self.a*self.b\n",
        "\n",
        "  class div:\n",
        "    def __init__(self,a,b):\n",
        "      self.a=a\n",
        "      self.b=b\n",
        "    def division(self):\n",
        "        return self.a/self.b\n",
        "\n",
        "obj=Calculator()\n",
        "x=int(input(\"Enter the first number: \"))\n",
        "y=int(input(\"Enter the second number: \"))\n",
        "\n",
        "obj.add(x,y)\n",
        "obj.sub(x,y)\n",
        "obj.mul(x,y)\n",
        "obj.div(x,y)\n",
        "\n",
        "print()\n",
        "print(\"The Addition value is\",obj.add(x,y).addition())\n",
        "print(\"The subtraction value is\",obj.sub(x,y).subtraction())\n",
        "print(\"The multiplication value is\",obj.mul(x,y).multiplication())\n",
        "print(\"The division value is\",obj.div(x,y).division())"
      ]
    },
    {
      "cell_type": "code",
      "source": [
        "#single inheritence\n",
        "class parent:\n",
        "  def __init__(self,name):\n",
        "    self.name=name\n",
        "  def greet(self):\n",
        "    print(\"Hello\")\n",
        "\n",
        "class child(parent):\n",
        "  def greeting(name):\n",
        "    print(\"Hi,\",name)\n",
        "\n",
        "obj=child(\"Shweta\")\n",
        "child.greeting(obj.name)"
      ],
      "metadata": {
        "colab": {
          "base_uri": "https://localhost:8080/"
        },
        "id": "1V8lVTc8aphY",
        "outputId": "7e05adf2-4eee-4cee-b455-52921d9b636a"
      },
      "execution_count": null,
      "outputs": [
        {
          "output_type": "stream",
          "name": "stdout",
          "text": [
            "Hi, Shweta\n"
          ]
        }
      ]
    },
    {
      "cell_type": "code",
      "source": [
        "#multiple inheritance\n",
        "class mother:\n",
        "  def __init__(self,mom):\n",
        "    self.mom=mom\n",
        "\n",
        "class father:\n",
        "  def __init__(self,dad):\n",
        "    self.dad=dad\n",
        "\n",
        "class son(mother,father):\n",
        "  def __init__(self,mom,dad):\n",
        "    mother.__init__(self,mom)\n",
        "    father.__init__(self,dad)\n",
        "  def info(self):\n",
        "    print(\"My mom is\",self.mom,\"and my dad is\",self.dad)\n",
        "\n",
        "obj=son(\"maa\",\"paa\")\n",
        "obj.info()"
      ],
      "metadata": {
        "colab": {
          "base_uri": "https://localhost:8080/"
        },
        "id": "UAOJa2enbwLX",
        "outputId": "3a729b0b-651e-4049-9826-d33db24f2247"
      },
      "execution_count": null,
      "outputs": [
        {
          "output_type": "stream",
          "name": "stdout",
          "text": [
            "My mom is maa and my dad is paa\n"
          ]
        }
      ]
    },
    {
      "cell_type": "code",
      "source": [
        "#Multilevel inheritance\n",
        "class A:\n",
        "  def __init__(self,a):\n",
        "    self.a=a\n",
        "  def display(self):\n",
        "    print(a)\n",
        "\n",
        "class B(A):\n",
        "  def __init__(self,a,b):\n",
        "    super().__init__(a)\n",
        "    self.b=b\n",
        "  def display(self):\n",
        "    print(b)\n",
        "\n",
        "class C(B):\n",
        "  def __init__(self,a,b,c):\n",
        "    super().__init__(a,b)\n",
        "    self.c=c\n",
        "  def all(self):\n",
        "    print(self.a,self.b,self.c)\n",
        "\n",
        "obj=C(1,2,3)\n",
        "obj.all()"
      ],
      "metadata": {
        "colab": {
          "base_uri": "https://localhost:8080/"
        },
        "id": "jsp6-SbFdSzH",
        "outputId": "d4c2f441-2359-42c5-ee8f-3b779f4785d0"
      },
      "execution_count": null,
      "outputs": [
        {
          "output_type": "stream",
          "name": "stdout",
          "text": [
            "1 2 3\n"
          ]
        }
      ]
    },
    {
      "cell_type": "code",
      "source": [
        "#Hierarchial inheritance\n",
        "class parent:\n",
        "  def __init__(self,name):\n",
        "    self.name=name\n",
        "  def greet(self):\n",
        "    print(\"Hello\")\n",
        "\n",
        "class child1(parent):\n",
        "  def greeting(name):\n",
        "    print(\"Hi\",name)\n",
        "\n",
        "class child2(parent):\n",
        "  def greeting(name):\n",
        "    print(\"Nice to meet you\",name)\n",
        "\n",
        "obj=child1(\"Shweta\")\n",
        "child1.greeting(obj.name)\n",
        "obj=child2(\"Shweta\")\n",
        "child2.greeting(obj.name)"
      ],
      "metadata": {
        "colab": {
          "base_uri": "https://localhost:8080/"
        },
        "id": "_qWOA_-VevOP",
        "outputId": "45e6073a-d2c1-4b4f-c647-722a2a567538"
      },
      "execution_count": null,
      "outputs": [
        {
          "output_type": "stream",
          "name": "stdout",
          "text": [
            "Hi Shweta\n",
            "Nice to meet you Shweta\n"
          ]
        }
      ]
    }
  ]
}