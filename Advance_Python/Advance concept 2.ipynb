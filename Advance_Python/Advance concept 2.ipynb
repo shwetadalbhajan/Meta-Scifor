{
  "nbformat": 4,
  "nbformat_minor": 0,
  "metadata": {
    "colab": {
      "provenance": []
    },
    "kernelspec": {
      "name": "python3",
      "display_name": "Python 3"
    },
    "language_info": {
      "name": "python"
    }
  },
  "cells": [
    {
      "cell_type": "code",
      "execution_count": null,
      "metadata": {
        "colab": {
          "base_uri": "https://localhost:8080/"
        },
        "id": "y9W44cPaohXt",
        "outputId": "9310f056-41e4-4d82-b6d9-a1ee98014d30"
      },
      "outputs": [
        {
          "output_type": "stream",
          "name": "stdout",
          "text": [
            "{'id': 1}\n",
            "200\n"
          ]
        }
      ],
      "source": [
        "#Put method\n",
        "import json\n",
        "import requests\n",
        "url=\"https://jsonplaceholder.typicode.com/todos/1\"\n",
        "data={\n",
        "    \"userId\": 1,\n",
        "    \"id\": 1,\n",
        "    \"title\": \"Update\",\n",
        "    \"completed\": False\n",
        "}\n",
        "json_format=json.dumps(data)\n",
        "response=requests.put(url,data=json_format)\n",
        "print(response.json())\n",
        "print(response.status_code)"
      ]
    },
    {
      "cell_type": "code",
      "source": [
        "#Post method\n",
        "url=\"https://jsonplaceholder.typicode.com/todos/\"\n",
        "data={\n",
        "    \"userId\":21,\n",
        "    \"id\":201,\n",
        "    \"title\":\"New Title\",\n",
        "    \"completed\":False\n",
        "}\n",
        "json_format=json.dumps(data)\n",
        "response=requests.post(url,data=json_format)\n",
        "print(response.json())\n",
        "print(response.status_code)"
      ],
      "metadata": {
        "colab": {
          "base_uri": "https://localhost:8080/"
        },
        "id": "whI-rWRCqs06",
        "outputId": "525000e3-d201-450c-c12a-a5e6095855a7"
      },
      "execution_count": null,
      "outputs": [
        {
          "output_type": "stream",
          "name": "stdout",
          "text": [
            "{'id': 201}\n",
            "201\n"
          ]
        }
      ]
    },
    {
      "cell_type": "code",
      "source": [
        "#Delete method\n",
        "url=\"https://jsonplaceholder.typicode.com/todos/1\"\n",
        "response=requests.delete(url)\n",
        "print(response.json())\n",
        "print(response.status_code)"
      ],
      "metadata": {
        "colab": {
          "base_uri": "https://localhost:8080/"
        },
        "id": "sldbIrfBr-73",
        "outputId": "f2e63c2b-56a5-4212-80cb-11fb0709afab"
      },
      "execution_count": null,
      "outputs": [
        {
          "output_type": "stream",
          "name": "stdout",
          "text": [
            "{}\n",
            "200\n"
          ]
        }
      ]
    },
    {
      "cell_type": "code",
      "source": [
        "#List comprehension - Finding squares of even numbers\n",
        "squares=[x**2 for x in range(1,11) if x%2==0]\n",
        "print(squares)"
      ],
      "metadata": {
        "colab": {
          "base_uri": "https://localhost:8080/"
        },
        "id": "C-JA114MsvYT",
        "outputId": "654d9b1e-9de4-455d-be08-b607689c4474"
      },
      "execution_count": null,
      "outputs": [
        {
          "output_type": "stream",
          "name": "stdout",
          "text": [
            "[4, 16, 36, 64, 100]\n"
          ]
        }
      ]
    },
    {
      "cell_type": "code",
      "source": [
        "#Lambda\n",
        "add=lambda x,y:x+y\n",
        "sub=lambda x,y:x-y\n",
        "mul=lambda x,y:x*y\n",
        "div=lambda x,y:x/y\n",
        "mod=lambda x,y:x%y\n",
        "\n",
        "a=int(input(\"Enter first number: \"))\n",
        "b=int(input(\"Enter second number: \"))\n",
        "print()\n",
        "print(\"The operations on the above number: \")\n",
        "print(\"Addition:\",add(a,b))\n",
        "print(\"Subtraction:\",sub(a,b))\n",
        "print(\"Multiplication:\",mul(a,b))\n",
        "print(\"Division:\",div(a,b))\n",
        "print(\"Modulus:\",mod(a,b))"
      ],
      "metadata": {
        "colab": {
          "base_uri": "https://localhost:8080/"
        },
        "id": "iaYlfb8TtKHa",
        "outputId": "02578229-95a8-4a32-d962-3b5fefc4e704"
      },
      "execution_count": null,
      "outputs": [
        {
          "output_type": "stream",
          "name": "stdout",
          "text": [
            "Enter first number: 4\n",
            "Enter second number: 4\n",
            "\n",
            "The operations on the above number: \n",
            "Addition: 8\n",
            "Subtraction: 0\n",
            "Multiplication: 16\n",
            "Division: 1.0\n",
            "Modulus: 0\n"
          ]
        }
      ]
    },
    {
      "cell_type": "code",
      "source": [
        "#Decorator\n",
        "import time\n",
        "def decorate(func):\n",
        "  def wrapper():\n",
        "    print(\"This is before function\")\n",
        "    func()\n",
        "    print(\"This is after fucntion\")\n",
        "  return wrapper\n",
        "\n",
        "@decorate\n",
        "def simple():\n",
        "  time.sleep(3)\n",
        "  print(\"The simple function\")\n",
        "\n",
        "simple()"
      ],
      "metadata": {
        "colab": {
          "base_uri": "https://localhost:8080/"
        },
        "id": "yLNwra4suNUm",
        "outputId": "14d6602b-429c-421a-e513-69dc98d52dd6"
      },
      "execution_count": null,
      "outputs": [
        {
          "output_type": "stream",
          "name": "stdout",
          "text": [
            "This is before function\n",
            "The simple function\n",
            "This is after fucntion\n"
          ]
        }
      ]
    },
    {
      "cell_type": "code",
      "source": [
        "#generator\n",
        "def generator():\n",
        "  for i in range(1,11):\n",
        "    yield i\n",
        "\n",
        "for i in generator():\n",
        "  print(\"The square of {} is {}.\".format(i,i**2))"
      ],
      "metadata": {
        "colab": {
          "base_uri": "https://localhost:8080/"
        },
        "id": "cgnTcRTyvWe3",
        "outputId": "2c521d7c-b342-4839-c6fd-6a361ac4e453"
      },
      "execution_count": null,
      "outputs": [
        {
          "output_type": "stream",
          "name": "stdout",
          "text": [
            "The square of 1 is 1.\n",
            "The square of 2 is 4.\n",
            "The square of 3 is 9.\n",
            "The square of 4 is 16.\n",
            "The square of 5 is 25.\n",
            "The square of 6 is 36.\n",
            "The square of 7 is 49.\n",
            "The square of 8 is 64.\n",
            "The square of 9 is 81.\n",
            "The square of 10 is 100.\n"
          ]
        }
      ]
    },
    {
      "cell_type": "code",
      "source": [
        "#map and filter functions\n",
        "num=[1,2,3,4,5,6,7,8,9]\n",
        "squares=list(map(lambda x:x**2,num))\n",
        "print(\"Square of numbers using map():\",squares)\n",
        "even=list(filter(lambda x:x%2==0,num))\n",
        "print(\"Finding even numbers using filter():\",even)"
      ],
      "metadata": {
        "colab": {
          "base_uri": "https://localhost:8080/"
        },
        "id": "q1ssFoJjzxnt",
        "outputId": "f3e7ddcd-569a-49f8-f84b-647355e0adde"
      },
      "execution_count": null,
      "outputs": [
        {
          "output_type": "stream",
          "name": "stdout",
          "text": [
            "Square of numbers using map(): [1, 4, 9, 16, 25, 36, 49, 64, 81]\n",
            "Finding even numbers using filter(): [2, 4, 6, 8]\n"
          ]
        }
      ]
    },
    {
      "cell_type": "code",
      "source": [
        "#Args and Kwargs\n",
        "def demo(*args,**kwargs):\n",
        "  print(\"The Args elements are as follows:\")\n",
        "  for i in args:\n",
        "    print(i)\n",
        "  print()\n",
        "  print(\"The kwargs elements are as follows:\")\n",
        "  for key,value in kwargs.items():\n",
        "    print(\"{}:{}\".format(key,value))\n",
        "\n",
        "demo(\"apple\",True,2354,a=\"Hello\",b=\"Bye\")"
      ],
      "metadata": {
        "colab": {
          "base_uri": "https://localhost:8080/"
        },
        "id": "4u2NwzoZv2ja",
        "outputId": "15f2f439-5815-4973-d125-ac5e43e2ed41"
      },
      "execution_count": null,
      "outputs": [
        {
          "output_type": "stream",
          "name": "stdout",
          "text": [
            "The Args elements are as follows:\n",
            "apple\n",
            "True\n",
            "2354\n",
            "\n",
            "The kwargs elements are as follows:\n",
            "a:Hello\n",
            "b:Bye\n"
          ]
        }
      ]
    },
    {
      "cell_type": "code",
      "source": [
        "#Synchronous function\n",
        "import time\n",
        "def task1():\n",
        "  print(\"Starts 1\")\n",
        "  time.sleep(2)\n",
        "  print(\"Ends 1\")\n",
        "\n",
        "def task2():\n",
        "  print(\"Starts 2\")\n",
        "  time.sleep(3)\n",
        "  print(\"Ends 2\")\n",
        "\n",
        "task1()\n",
        "task2()"
      ],
      "metadata": {
        "colab": {
          "base_uri": "https://localhost:8080/"
        },
        "id": "dwWomsOAw30i",
        "outputId": "993094d3-82fd-49ef-dca4-d4e8fc3e5963"
      },
      "execution_count": null,
      "outputs": [
        {
          "output_type": "stream",
          "name": "stdout",
          "text": [
            "Starts 1\n",
            "Ends 1\n",
            "Starts 2\n",
            "Ends 2\n"
          ]
        }
      ]
    }
  ]
}