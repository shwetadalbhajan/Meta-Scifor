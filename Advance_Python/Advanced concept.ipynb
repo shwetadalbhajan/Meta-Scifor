{
  "nbformat": 4,
  "nbformat_minor": 0,
  "metadata": {
    "colab": {
      "provenance": []
    },
    "kernelspec": {
      "name": "python3",
      "display_name": "Python 3"
    },
    "language_info": {
      "name": "python"
    }
  },
  "cells": [
    {
      "cell_type": "code",
      "execution_count": null,
      "metadata": {
        "colab": {
          "base_uri": "https://localhost:8080/"
        },
        "id": "o56z8P__xwmG",
        "outputId": "ce71bf17-60c1-49c9-ffb3-d98c9623e616"
      },
      "outputs": [
        {
          "output_type": "stream",
          "name": "stdout",
          "text": [
            "Object to String: {\"Name\": \"Shweta\", \"Age\": 21, \"City\": \"Mumbai\"}\n",
            "<class 'str'>\n"
          ]
        }
      ],
      "source": [
        "#Converting Json to string\n",
        "import json\n",
        "data={\n",
        "    \"Name\":\"Shweta\",\n",
        "    \"Age\":21,\n",
        "    \"City\":\"Mumbai\"\n",
        "}\n",
        "json_string=json.dumps(data)\n",
        "print(\"Object to String:\",json_string)\n",
        "print(type(json_string))"
      ]
    },
    {
      "cell_type": "code",
      "source": [
        "#Converting String to Json\n",
        "json_data=json.loads(json_string)\n",
        "print(\"String to Object:\",json_data)\n",
        "print(type(json_data))"
      ],
      "metadata": {
        "colab": {
          "base_uri": "https://localhost:8080/"
        },
        "id": "nn8GcQ4myR9W",
        "outputId": "66a49a7b-e1f2-4686-9978-0f2198358ad7"
      },
      "execution_count": null,
      "outputs": [
        {
          "output_type": "stream",
          "name": "stdout",
          "text": [
            "String to Object: {'Name': 'Shweta', 'Age': 21, 'City': 'Mumbai'}\n",
            "<class 'dict'>\n"
          ]
        }
      ]
    },
    {
      "cell_type": "code",
      "source": [
        "#Decorators\n",
        "import time\n",
        "def deco1(func):\n",
        "  def wrapper():\n",
        "    print(\"Starts 1\")\n",
        "    func()\n",
        "  return wrapper\n",
        "\n",
        "def deco2(func):\n",
        "  def wrapper():\n",
        "    print(\"Starts 2\")\n",
        "    func()\n",
        "  return wrapper\n",
        "\n",
        "def deco3(func):\n",
        "  def wrapper():\n",
        "    print(\"Starts 3\")\n",
        "    func()\n",
        "  return wrapper\n",
        "\n",
        "@deco1\n",
        "@deco2\n",
        "@deco3\n",
        "def simple():\n",
        "  time.sleep(2)\n",
        "  print(\"Hello\")\n",
        "\n",
        "simple()"
      ],
      "metadata": {
        "colab": {
          "base_uri": "https://localhost:8080/"
        },
        "id": "aowj5vGNynh6",
        "outputId": "921474c5-534c-46ad-a6ac-2b0a2e8ab376"
      },
      "execution_count": null,
      "outputs": [
        {
          "output_type": "stream",
          "name": "stdout",
          "text": [
            "Starts 1\n",
            "Starts 2\n",
            "Starts 3\n",
            "Hello\n"
          ]
        }
      ]
    }
  ]
}