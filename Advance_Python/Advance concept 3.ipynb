{
  "nbformat": 4,
  "nbformat_minor": 0,
  "metadata": {
    "colab": {
      "provenance": []
    },
    "kernelspec": {
      "name": "python3",
      "display_name": "Python 3"
    },
    "language_info": {
      "name": "python"
    }
  },
  "cells": [
    {
      "cell_type": "code",
      "execution_count": null,
      "metadata": {
        "colab": {
          "base_uri": "https://localhost:8080/"
        },
        "id": "tLX5s42bwxW0",
        "outputId": "682d0070-d6b6-4726-9ce3-b19b2be8c58f"
      },
      "outputs": [
        {
          "output_type": "stream",
          "name": "stdout",
          "text": [
            "JSON string: {\"name\": \"Shweta\", \"age\": 21, \"country\": \"India\"}\n",
            "Back to object: {'name': 'Shweta', 'age': 21, 'country': 'India'}\n"
          ]
        }
      ],
      "source": [
        "import json\n",
        "data = {\n",
        "    \"name\": \"Shweta\",\n",
        "    \"age\": 21,\n",
        "    \"country\": \"India\"\n",
        "}\n",
        "\n",
        "#Object to JSON\n",
        "json_str = json.dumps(data)\n",
        "print(\"JSON string:\", json_str)\n",
        "\n",
        "#JSON to Object\n",
        "data_back = json.loads(json_str)\n",
        "print(\"Back to object:\", data_back)"
      ]
    },
    {
      "cell_type": "code",
      "source": [
        "#Example of generator\n",
        "\n",
        "def generator():\n",
        "    for i in range(1,11):\n",
        "      yield i\n",
        "\n",
        "n=int(input(\"Enter the number: \"))\n",
        "gen = generator()\n",
        "print(\"Table of {}:\\n\".format(n))\n",
        "for num in gen:\n",
        "  print(\"{}X{}={}\".format(n,num,num*n))"
      ],
      "metadata": {
        "colab": {
          "base_uri": "https://localhost:8080/"
        },
        "id": "E4BKYxEIxPlO",
        "outputId": "f1a55fc2-ed74-4f2f-94a9-2ba4661ceda5"
      },
      "execution_count": null,
      "outputs": [
        {
          "output_type": "stream",
          "name": "stdout",
          "text": [
            "Enter the number: 5\n",
            "Table of 5:\n",
            "\n",
            "5X1=5\n",
            "5X2=10\n",
            "5X3=15\n",
            "5X4=20\n",
            "5X5=25\n",
            "5X6=30\n",
            "5X7=35\n",
            "5X8=40\n",
            "5X9=45\n",
            "5X10=50\n"
          ]
        }
      ]
    },
    {
      "cell_type": "code",
      "source": [
        "#Example for decorators\n",
        "\n",
        "def decorator(func):\n",
        "    def wrapper(x, y):\n",
        "        print(\"Before the function\")\n",
        "        result = func(x, y)\n",
        "        print(\"After the function\")\n",
        "        return result\n",
        "    return wrapper\n",
        "\n",
        "\n",
        "@decorator\n",
        "def add(a, b):\n",
        "    return a + b\n",
        "result = add(3, 4)\n",
        "print(\"Result:\", result)"
      ],
      "metadata": {
        "colab": {
          "base_uri": "https://localhost:8080/"
        },
        "id": "h6-0PtVXyT93",
        "outputId": "9e86390a-10b5-40fc-9316-8a96079b9df0"
      },
      "execution_count": null,
      "outputs": [
        {
          "output_type": "stream",
          "name": "stdout",
          "text": [
            "Before the function\n",
            "After the function\n",
            "Result: 7\n"
          ]
        }
      ]
    },
    {
      "cell_type": "code",
      "source": [
        "#Combining args and kwargs in one program\n",
        "\n",
        "def display(*args, **kwargs):\n",
        "    print(\"Positional Arguments (Args):\")\n",
        "    for arg in args:\n",
        "        print(arg)\n",
        "\n",
        "    print(\"\\nKeyword Arguments (Kwargs):\")\n",
        "    for key, value in kwargs.items():\n",
        "        print(f\"{key}: {value}\")\n",
        "\n",
        "display(10, \"apple\", True, name=\"Alice\", age=25, city=\"New York\")"
      ],
      "metadata": {
        "colab": {
          "base_uri": "https://localhost:8080/"
        },
        "id": "ch_kDq3lzuj_",
        "outputId": "11f056ca-a522-42ec-e8d4-396fde75bf50"
      },
      "execution_count": null,
      "outputs": [
        {
          "output_type": "stream",
          "name": "stdout",
          "text": [
            "Positional Arguments (Args):\n",
            "10\n",
            "apple\n",
            "True\n",
            "\n",
            "Keyword Arguments (Kwargs):\n",
            "name: Alice\n",
            "age: 25\n",
            "city: New York\n"
          ]
        }
      ]
    }
  ]
}